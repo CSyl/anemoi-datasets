{
 "cells": [
  {
   "cell_type": "code",
   "execution_count": 310,
   "metadata": {},
   "outputs": [],
   "source": [
    "from anemoi.datasets import open_dataset, add_dataset_path"
   ]
  },
  {
   "cell_type": "code",
   "execution_count": 311,
   "metadata": {},
   "outputs": [],
   "source": [
    "add_dataset_path(\"https://object-store.os-api.cci1.ecmwf.int/ml-examples/\")"
   ]
  },
  {
   "cell_type": "code",
   "execution_count": 312,
   "metadata": {},
   "outputs": [],
   "source": [
    "ds1 = open_dataset(\"an-oper-2023-2023-2p5-6h-v1\", select=[\"10u\", \"10v\"])\n",
    "ds2 = open_dataset(\"an-oper-2023-2023-2p5-6h-v1\", select=[\"2t\", \"msl\"])\n",
    "ds =open_dataset(ds1, ds2)"
   ]
  },
  {
   "cell_type": "code",
   "execution_count": 313,
   "metadata": {},
   "outputs": [
    {
     "data": {
      "text/html": [
       "\n",
       "<style>\n",
       "table.dataset td {\n",
       "    vertical-align: top;\n",
       "    text-align: left !important;\n",
       "}\n",
       "span.dataset {\n",
       "    font-weight: bold !important;\n",
       "}\n",
       "</style>\n",
       "                  \n",
       "<table class=\"dataset\">\n",
       "<tr><td> <span class=\"dataset\">join</span></td></tr>\n",
       "<tr><td>&nbsp;&nbsp;&nbsp; <span class=\"dataset\">select</span> 10u, 10v</td></tr>\n",
       "<tr><td>&nbsp;&nbsp;&nbsp;&nbsp;&nbsp;&nbsp; <span class=\"dataset\">zarr</span> ...-store.os-api.cci1.ecmwf.int/ml-examples/an-oper-2023-2023-2p5-6h-v1.zarr</td></tr>\n",
       "<tr><td>&nbsp;&nbsp;&nbsp; <span class=\"dataset\">select</span> 2t, msl</td></tr>\n",
       "<tr><td>&nbsp;&nbsp;&nbsp;&nbsp;&nbsp;&nbsp; <span class=\"dataset\">zarr</span> ...-store.os-api.cci1.ecmwf.int/ml-examples/an-oper-2023-2023-2p5-6h-v1.zarr</td></tr>\n",
       "</table>"
      ],
      "text/plain": [
       "Join(Select(), Select())"
      ]
     },
     "execution_count": 313,
     "metadata": {},
     "output_type": "execute_result"
    }
   ],
   "source": [
    "ds"
   ]
  },
  {
   "cell_type": "code",
   "execution_count": 314,
   "metadata": {},
   "outputs": [],
   "source": [
    "# ds[9]"
   ]
  },
  {
   "cell_type": "code",
   "execution_count": 315,
   "metadata": {},
   "outputs": [
    {
     "name": "stdout",
     "output_type": "stream",
     "text": [
      "1460\n"
     ]
    }
   ],
   "source": [
    "print(len(ds))"
   ]
  },
  {
   "cell_type": "code",
   "execution_count": 316,
   "metadata": {},
   "outputs": [
    {
     "name": "stdout",
     "output_type": "stream",
     "text": [
      "['10u', '10v', '2t', 'msl']\n"
     ]
    }
   ],
   "source": [
    "print(ds.variables)"
   ]
  },
  {
   "cell_type": "code",
   "execution_count": 317,
   "metadata": {},
   "outputs": [
    {
     "data": {
      "text/plain": [
       "Join\n",
       "  Select\n",
       "    select: 10u, 10v\n",
       "    Zarr\n",
       "      path: https://object-store.os-api.cci1.ecmwf.int/ml-examples/an-oper-2023-2023-2p5-6h-v1.zarr\n",
       "  Select\n",
       "    select: 2t, msl\n",
       "    Zarr\n",
       "      path: https://object-store.os-api.cci1.ecmwf.int/ml-examples/an-oper-2023-2023-2p5-6h-v1.zarr"
      ]
     },
     "execution_count": 317,
     "metadata": {},
     "output_type": "execute_result"
    }
   ],
   "source": [
    "ds.tree()"
   ]
  }
 ],
 "metadata": {
  "kernelspec": {
   "display_name": "py311",
   "language": "python",
   "name": "python3"
  },
  "language_info": {
   "codemirror_mode": {
    "name": "ipython",
    "version": 3
   },
   "file_extension": ".py",
   "mimetype": "text/x-python",
   "name": "python",
   "nbconvert_exporter": "python",
   "pygments_lexer": "ipython3",
   "version": "3.11.8"
  }
 },
 "nbformat": 4,
 "nbformat_minor": 2
}
