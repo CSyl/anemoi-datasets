{
 "cells": [
  {
   "cell_type": "code",
   "execution_count": 5,
   "metadata": {},
   "outputs": [],
   "source": [
    "from anemoi.datasets import open_dataset, add_dataset_path"
   ]
  },
  {
   "cell_type": "code",
   "execution_count": 6,
   "metadata": {},
   "outputs": [],
   "source": [
    "add_dataset_path(\"https://object-store.os-api.cci1.ecmwf.int/ml-examples/\")"
   ]
  },
  {
   "cell_type": "code",
   "execution_count": 7,
   "metadata": {},
   "outputs": [],
   "source": [
    "ds = open_dataset(\"an-oper-2023-2023-2p5-6h-v1\")"
   ]
  },
  {
   "cell_type": "code",
   "execution_count": 8,
   "metadata": {},
   "outputs": [
    {
     "data": {
      "text/plain": [
       "https://object-store.os-api.cci1.ecmwf.int/ml-examples/an-oper-2023-2023-2p5-6h-v1.zarr"
      ]
     },
     "execution_count": 8,
     "metadata": {},
     "output_type": "execute_result"
    }
   ],
   "source": [
    "ds"
   ]
  },
  {
   "cell_type": "code",
   "execution_count": 10,
   "metadata": {},
   "outputs": [
    {
     "data": {
      "text/plain": [
       "array([[[ 1.7535400e-01,  1.7535400e-01,  1.7535400e-01, ...,\n",
       "         -3.2084351e+00, -3.2084351e+00, -3.2084351e+00]],\n",
       "\n",
       "       [[-5.6641235e+00, -5.6641235e+00, -5.6641235e+00, ...,\n",
       "          5.0468140e+00,  5.0468140e+00,  5.0468140e+00]],\n",
       "\n",
       "       [[ 2.4438780e+02,  2.4438780e+02,  2.4438780e+02, ...,\n",
       "          2.4434679e+02,  2.4434679e+02,  2.4434679e+02]],\n",
       "\n",
       "       ...,\n",
       "\n",
       "       [[ 2.8265609e+04,  2.8265609e+04,  2.8265609e+04, ...,\n",
       "          2.6011734e+04,  2.6011734e+04,  2.6011734e+04]],\n",
       "\n",
       "       [[ 1.4243578e+04,  1.4243578e+04,  1.4243578e+04, ...,\n",
       "          1.1652578e+04,  1.1652578e+04,  1.1652578e+04]],\n",
       "\n",
       "       [[ 8.0162949e+03,  8.0162949e+03,  8.0162949e+03, ...,\n",
       "          5.2320449e+03,  5.2320449e+03,  5.2320449e+03]]], dtype=float32)"
      ]
     },
     "execution_count": 10,
     "metadata": {},
     "output_type": "execute_result"
    }
   ],
   "source": [
    "ds[9]"
   ]
  }
 ],
 "metadata": {
  "kernelspec": {
   "display_name": "py311",
   "language": "python",
   "name": "python3"
  },
  "language_info": {
   "codemirror_mode": {
    "name": "ipython",
    "version": 3
   },
   "file_extension": ".py",
   "mimetype": "text/x-python",
   "name": "python",
   "nbconvert_exporter": "python",
   "pygments_lexer": "ipython3",
   "version": "3.11.8"
  }
 },
 "nbformat": 4,
 "nbformat_minor": 2
}
