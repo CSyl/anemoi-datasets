{
 "cells": [
  {
   "cell_type": "markdown",
   "id": "9e732f70-2148-4542-9a6c-503854d67b5a",
   "metadata": {},
   "source": [
    "# Open GCP via Xaray and mapper:\n",
    "1) add_dataset_path(url without filename) -> open_dataset(filename without zarr ext)\n",
    "2) _open_dataset(url with filename.zarr)\n"
   ]
  },
  {
   "cell_type": "code",
   "execution_count": null,
   "id": "0dd08a52-c5d7-4847-abc0-952f0f44127d",
   "metadata": {},
   "outputs": [],
   "source": [
    "import gcsfs\n",
    "import xarray as xr\n",
    "import planetary_computer\n",
    "import re\n"
   ]
  },
  {
   "cell_type": "code",
   "execution_count": null,
   "id": "1bc3a6e1-c27e-430c-bd18-53e6301eef41",
   "metadata": {},
   "outputs": [],
   "source": [
    "bucket_name = \"gcp-public-data-arco-era5\"\n",
    "fs = gcsfs.GCSFileSystem(project=f'{bucket_name}_fs')\n",
    "\n",
    "print(f\"Data Categories (higher-level prefix):\\n{fs.ls(bucket_name)}\")\n",
    "mapper = fs.get_mapper(f\"gs://{bucket_name}/ar/1959-2022-full_37-6h-0p25deg_derived.zarr\")\n",
    "\n",
    "ds = xr.open_zarr(mapper)\n",
    "test = ds['2m_temperature'].isel(time=slice(-20, -10))\n",
    "test"
   ]
  },
  {
   "cell_type": "markdown",
   "id": "56166edd-fc80-4a5d-b915-b6335a0f26a8",
   "metadata": {},
   "source": [
    "# Create a small subset of ERA5 data file from GCP Storage"
   ]
  },
  {
   "cell_type": "code",
   "execution_count": null,
   "id": "78d1873d-d2f5-4cca-a5f7-31f6c370979c",
   "metadata": {},
   "outputs": [],
   "source": [
    "# test.to_zarr('test.zarr')"
   ]
  },
  {
   "cell_type": "markdown",
   "id": "2138817c-5e8b-4bcb-9118-7c2137b8792b",
   "metadata": {},
   "source": [
    "# Verfiy test.zarr file coordinates, variables, & dimesions"
   ]
  },
  {
   "cell_type": "code",
   "execution_count": null,
   "id": "1fc4e4c4-accf-45c0-9370-97bc11d4d6a9",
   "metadata": {},
   "outputs": [],
   "source": [
    "ds = xr.open_zarr('test.zarr')\n",
    "ds"
   ]
  },
  {
   "cell_type": "code",
   "execution_count": null,
   "id": "0da0afb3-9112-4921-b61d-ea6b83479f63",
   "metadata": {},
   "outputs": [],
   "source": [
    "test.data.chunks"
   ]
  },
  {
   "cell_type": "code",
   "execution_count": null,
   "id": "cac8a40e-cd4d-4d43-96b6-29a37f10cf38",
   "metadata": {},
   "outputs": [],
   "source": [
    "# From: dataset_module/anemoi-datasets-develop/src/anemoi/datasets/data/misc.py\n",
    "from stores import Zarr, open_zarr, zarr_lookup\n",
    "import zarr\n",
    "import gcsfs\n",
    "import xarray as xr\n",
    "import planetary_computer\n",
    "import re\n",
    "\n",
    "bucket_name = \"gcp-public-data-arco-era5\"\n",
    "fs = gcsfs.GCSFileSystem(project=f'{bucket_name}_fs')\n",
    "\n",
    "print(f\"Data Categories (higher-level prefix):\\n{fs.ls(bucket_name)}\")\n",
    "mapper = fs.get_mapper(f\"gs://{bucket_name}/ar/1959-2022-full_37-6h-0p25deg_derived.zarr\")\n",
    "path = mapper\n",
    "path"
   ]
  },
  {
   "cell_type": "code",
   "execution_count": null,
   "id": "10281380-1621-4634-a032-3aff805a8fdf",
   "metadata": {},
   "outputs": [],
   "source": [
    "# dataset_module/anemoi-datasets-develop/src/anemoi/datasets/data/stores.py\n",
    "#path = \"https://object-store.os-api.cci1.ecmwf.int/ml-examples/an-oper-2023-2023-2p5-6h-v1.zarr\"\n",
    "open_zarr(path)\n"
   ]
  },
  {
   "cell_type": "code",
   "execution_count": null,
   "id": "3abae6dc-7b96-47d3-8c18-f7cd8ea076bc",
   "metadata": {},
   "outputs": [],
   "source": [
    "Zarr(path).mutate()"
   ]
  },
  {
   "cell_type": "code",
   "execution_count": null,
   "id": "2a222ae3-5889-4eb6-b7a8-9358d7d7837b",
   "metadata": {},
   "outputs": [],
   "source": []
  },
  {
   "cell_type": "markdown",
   "id": "9035881c-df98-4ed9-bd22-a4f8f564894a",
   "metadata": {},
   "source": [
    "# Open via ECMWF ERA5 data:\n",
    "\n",
    "1) add_dataset_path(url without filename) -> open_dataset(filename without zarr ext)\n",
    "   \n",
    "2) _open_dataset(url with filename.zarr)"
   ]
  },
  {
   "cell_type": "code",
   "execution_count": null,
   "id": "11edbcf3-a215-42ed-80e1-334e3fad05d4",
   "metadata": {},
   "outputs": [],
   "source": [
    "# ECMWF\n",
    "from __init__ import add_dataset_path\n",
    "from __init__ import open_dataset\n",
    "\n",
    "add_dataset_path(\"https://object-store.os-api.cci1.ecmwf.int/ml-examples/\")\n",
    "\n",
    "# import time\n",
    "# time.sleep(3)\n",
    "ds = open_dataset(\"an-oper-2023-2023-2p5-6h-v1\")#, thinning=2)\n",
    "ds\n",
    "\n"
   ]
  },
  {
   "cell_type": "markdown",
   "id": "ba3cdb2c-221b-4b4b-84de-bae8154cacac",
   "metadata": {},
   "source": [
    "# zarr.convenience.open(store) - Open the Hiearchical Zarr Group called in stores.py via:\n",
    "\n",
    "- Findings: Assumes a variable is called \"data\", but not all zarr groups will have \"Data\" listed\n"
   ]
  },
  {
   "cell_type": "code",
   "execution_count": null,
   "id": "83d588f8-9dcb-4168-8187-8c4fe11d2ff3",
   "metadata": {},
   "outputs": [],
   "source": [
    "# ECMWF w/ https://\n",
    "from stores import *\n",
    "path = \"https://object-store.os-api.cci1.ecmwf.int/ml-examples/an-oper-2023-2023-2p5-6h-v1.zarr\"\n",
    "#path = \"https://object-store.os-api.cci1.ecmwf.int/ml-examples/an-oper-2023-2023-2p5-6h-v1.zarr/data\"\n",
    "store = name_to_zarr_store(path)\n",
    "ecmwf_era5 = zarr.convenience.open(store)\n",
    "print(\"Store's Type:\", ecmwf_era5)\n",
    "\n",
    "if \"data\" in ecmwf_era5:\n",
    "    print(\"\\n'data' present as a variable\")\n",
    "    print(\"\\nERA5 data:\\n\", ecmwf_era5[\"data\"])\n",
    "else:\n",
    "    print(\"'data not present as a variable\")\n",
    "    print(\"\\nVariables in Zarr:\\n\") \n",
    "    vars = {}\n",
    "    for i in ecmwf_era5:\n",
    "        vars[i] = type(gcp_era5[i])\n",
    "    print(vars)    \n"
   ]
  },
  {
   "cell_type": "code",
   "execution_count": null,
   "id": "44989070-d256-44e2-87a7-fd8fbfa98ed5",
   "metadata": {},
   "outputs": [],
   "source": []
  },
  {
   "cell_type": "code",
   "execution_count": null,
   "id": "8f048301-a372-4dd3-9657-6a42e3454b0a",
   "metadata": {},
   "outputs": [],
   "source": [
    "# # ERA5 from GCP w/ https\n",
    "# from stores import *\n",
    "# path = \"https://console.cloud.google.com/storage/browser/gcp-public-data-arco-era5/ar/1959-2022-full_37-6h-0p25deg_derived.zarr\"\n",
    "# store = name_to_zarr_store(path)\n",
    "# gcp_era5_https = zarr.convenience.open(store)\n",
    "# print(\"Store's Type:\", gcp_era5_https)\n",
    "\n",
    "# if \"data\" in gcp_era5_https:\n",
    "#     print(\"\\n'data' present as a variable\")\n",
    "#     print(\"\\nERA5 data:\\n\", gcp_era5_https[\"data\"])\n",
    "# else:\n",
    "#     print(\"'data not present as a variable\")\n",
    "#     print(\"\\nVariables in Zarr:\\n\") \n",
    "#     vars = {}\n",
    "#     for i in gcp_era5_https:\n",
    "#         vars[i] = type(gcp_era5_https[i])\n",
    "#     print(vars)   \n"
   ]
  },
  {
   "cell_type": "code",
   "execution_count": null,
   "id": "d38210ef-0030-4793-b902-4509627841d5",
   "metadata": {},
   "outputs": [],
   "source": [
    "# ERA5 from GCP w/ gs\n",
    "from stores import *\n",
    "path = \"gs://gcp-public-data-arco-era5/ar/1959-2022-full_37-6h-0p25deg_derived.zarr\"\n",
    "store = name_to_zarr_store(path)\n",
    "gcp_era5 = zarr.convenience.open(store)\n",
    "print(\"Store's Type:\", gcp_era5)\n",
    "\n",
    "if \"data\" in gcp_era5:\n",
    "    print(\"\\n'data' present as a variable\")\n",
    "    print(\"\\nERA5 data:\\n\", gcp_era5[\"data\"])\n",
    "else:\n",
    "    print(\"'data not present as a variable\")\n",
    "    print(\"\\nVariables in Zarr:\\n\") \n",
    "    vars = {}\n",
    "    for i in gcp_era5:\n",
    "        vars[i] = type(gcp_era5[i])\n",
    "    print(vars)    \n",
    "\n",
    "# # GS w/ fsmapper gs://\n",
    "# import zarr\n",
    "# import gcsfs\n",
    "# import xarray as xr\n",
    "# import planetary_computer\n",
    "# import re\n",
    "\n",
    "# bucket_name = \"gcp-public-data-arco-era5\"\n",
    "# fs = gcsfs.GCSFileSystem(project=f'{bucket_name}_fs')\n",
    "\n",
    "# print(f\"Data Categories (higher-level prefix):\\n{fs.ls(bucket_name)}\")\n",
    "# mapper = fs.get_mapper(f\"gs://{bucket_name}/ar/1959-2022-full_37-6h-0p25deg_derived.zarr\")\n",
    "\n",
    "# t = zarr.convenience.open(mapper)"
   ]
  },
  {
   "cell_type": "code",
   "execution_count": null,
   "id": "589ba46d-7f2c-4444-a3b5-bf7b2c1a67a1",
   "metadata": {},
   "outputs": [],
   "source": [
    "from stores import *\n",
    "path =\"test.zarr\"\n",
    "store = name_to_zarr_store(path)\n",
    "gcp_era5_local = zarr.convenience.open(store)\n",
    "print(\"Store's Type:\", gcp_era5_local)\n",
    "\n",
    "if \"data\" in gcp_era5_local:\n",
    "    print(\"\\n'data' present as a variable\")\n",
    "    print(\"\\nERA5 data:\\n\", gcp_era5_local[\"data\"])\n",
    "else:\n",
    "    print(\"'data not present as a variable\")\n",
    "    print(\"\\nVariables in Zarr:\\n\") \n",
    "    vars = {}\n",
    "    for i in gcp_era5_local:\n",
    "        vars[i] = type(gcp_era5_local[i])\n",
    "    print(vars)    "
   ]
  },
  {
   "cell_type": "markdown",
   "id": "c55e636c-da3f-4d40-a278-25287bd04fb4",
   "metadata": {},
   "source": [
    "# open_dataset() data via:\n",
    "1) add_dataset_path(url without filename) -> open_dataset(filename without zarr ext)\n",
    "2) _open_dataset(url with filename.zarr)\n"
   ]
  },
  {
   "cell_type": "code",
   "execution_count": null,
   "id": "ea227551-6d66-4d55-9748-6c1fe66356a0",
   "metadata": {},
   "outputs": [],
   "source": []
  },
  {
   "cell_type": "code",
   "execution_count": null,
   "id": "b1fb39d4-81ce-4233-9b7c-29bb11d25bc5",
   "metadata": {},
   "outputs": [],
   "source": []
  },
  {
   "cell_type": "code",
   "execution_count": 1,
   "id": "20887e73-d79b-476a-b135-d2c275047559",
   "metadata": {},
   "outputs": [
    {
     "name": "stdout",
     "output_type": "stream",
     "text": [
      "Accessed _open_dataset\n",
      "Accessed _open & arg is str type\n",
      "DotDict({'datasets': DotDict({'named': DotDict({}), 'path': ['https://object-store.os-api.cci1.ecmwf.int/ml-examples/']})})\n",
      "Full\n",
      "http store\n",
      "\n",
      "Neither from http nor s3: <stores.HTTPStore object at 0x10c39fc50>\n",
      "1\n",
      "\n",
      "r content from HTTPS: b'{\\n    \"zarr_format\": 2\\n}'\n",
      "\n",
      "r content from HTTPS: b'{\\n    \"zarr_format\": 2\\n}'\n",
      "\n",
      "r content from HTTPS: b'{\\n    \"zarr_format\": 2\\n}'\n",
      "open_zarr() output is:\n",
      " <zarr.hierarchy.Group '/' read-only>\n",
      "Cache for nxt time\n",
      "http store\n",
      "\n",
      "Neither from http nor s3: <stores.HTTPStore object at 0x10c39ee90>\n",
      "1\n",
      "\n",
      "r content from HTTPS: b'{\\n    \"zarr_format\": 2\\n}'\n",
      "\n",
      "r content from HTTPS: b'{\\n    \"zarr_format\": 2\\n}'\n",
      "\n",
      "r content from HTTPS: b'{\\n    \"zarr_format\": 2\\n}'\n",
      "open_zarr(path): <zarr.hierarchy.Group '/' read-only>\n",
      "\n",
      "r content from HTTPS: b'{\\n    \"_create_yaml_config\": {\\n        \"build\": {\\n            \"group_by\": \"monthly\"\\n        },\\n        \"config_path\": \"/lus/h2resw01/hpcperm/mab/git/anemoi-datasets/tools/examples/an-oper-2023-2023-2p5-6h-v1.yaml\",\\n        \"copyright\": \"ECMWF\",\\n        \"dataset_status\": \"stable\",\\n        \"dates\": {\\n            \"end\": \"2023-12-31T18:00:00\",\\n            \"frequency\": \"6h\",\\n            \"group_by\": \"monthly\",\\n            \"start\": \"2023-01-01T00:00:00\"\\n        },\\n        \"description\": \"Example for the anemoi documentation\",\\n        \"input\": {\\n            \"join\": [\\n                {\\n                    \"mars\": {\\n                        \"grid\": [\\n                            2.5,\\n                            2.5\\n                        ],\\n                        \"levtype\": \"sfc\",\\n                        \"param\": [\\n                            \"10u\",\\n                            \"10v\",\\n                            \"2d\",\\n                            \"2t\",\\n                            \"lsm\",\\n                            \"msl\",\\n                            \"sdor\",\\n                            \"skt\",\\n                            \"slor\",\\n                            \"sp\",\\n                            \"tcw\",\\n                            \"z\"\\n                        ]\\n                    }\\n                },\\n                {\\n                    \"mars\": {\\n                        \"grid\": [\\n                            2.5,\\n                            2.5\\n                        ],\\n                        \"level\": [\\n                            50,\\n                            100,\\n                            150,\\n                            200,\\n                            250,\\n                            300,\\n                            400,\\n                            500,\\n                            600,\\n                            700,\\n                            850,\\n                            925,\\n                            1000\\n                        ],\\n                        \"levtype\": \"pl\",\\n                        \"param\": [\\n                            \"q\",\\n                            \"t\",\\n                            \"u\",\\n                            \"v\",\\n                            \"w\",\\n                            \"z\"\\n                        ]\\n                    }\\n                },\\n                {\\n                    \"accumulations\": {\\n                        \"grid\": [\\n                            2.5,\\n                            2.5\\n                        ],\\n                        \"levtype\": \"sfc\",\\n                        \"param\": [\\n                            \"cp\",\\n                            \"tp\"\\n                        ]\\n                    }\\n                },\\n                {\\n                    \"constants\": {\\n                        \"param\": [\\n                            \"cos_latitude\",\\n                            \"cos_longitude\",\\n                            \"sin_latitude\",\\n                            \"sin_longitude\",\\n                            \"cos_julian_day\",\\n                            \"cos_local_time\",\\n                            \"sin_julian_day\",\\n                            \"sin_local_time\",\\n                            \"insolation\"\\n                        ],\\n                        \"template\": \"${input.join.0.mars}\"\\n                    }\\n                }\\n            ]\\n        },\\n        \"licence\": \"CC-BY-4.0\",\\n        \"name\": \"an-oper-2023-2023-2p5-6h-v1\",\\n        \"output\": {\\n            \"chunking\": {\\n                \"dates\": 1,\\n                \"ensembles\": 1\\n            },\\n            \"dtype\": \"float32\",\\n            \"ensemble_dimension\": 2,\\n            \"flatten_grid\": true,\\n            \"order_by\": [\\n                {\\n                    \"valid_datetime\": \"ascending\"\\n                },\\n                {\\n                    \"param_level\": \"ascending\"\\n                },\\n                {\\n                    \"number\": \"ascending\"\\n                }\\n            ],\\n            \"remapping\": {\\n                \"param_level\": \"{param}_{levelist}\"\\n            },\\n            \"statistics\": \"param_level\"\\n        },\\n        \"purpose\": \"aifs\",\\n        \"reading_chunks\": null\\n    },\\n    \"copyright\": \"ECMWF\",\\n    \"data_request\": {\\n        \"area\": [\\n            90.0,\\n            0.0,\\n            -90.0,\\n            357.5\\n        ],\\n        \"grid\": [\\n            2.5,\\n            2.5\\n        ],\\n        \"param_level\": {\\n            \"pl\": [\\n                [\\n                    \"q\",\\n                    50\\n                ],\\n                [\\n                    \"q\",\\n                    100\\n                ],\\n                [\\n                    \"q\",\\n                    150\\n                ],\\n                [\\n                    \"q\",\\n                    200\\n                ],\\n                [\\n                    \"q\",\\n                    250\\n                ],\\n                [\\n                    \"q\",\\n                    300\\n                ],\\n                [\\n                    \"q\",\\n                    400\\n                ],\\n                [\\n                    \"q\",\\n                    500\\n                ],\\n                [\\n                    \"q\",\\n                    600\\n                ],\\n                [\\n                    \"q\",\\n                    700\\n                ],\\n                [\\n                    \"q\",\\n                    850\\n                ],\\n                [\\n                    \"q\",\\n                    925\\n                ],\\n                [\\n                    \"q\",\\n                    1000\\n                ],\\n                [\\n                    \"t\",\\n                    50\\n                ],\\n                [\\n                    \"t\",\\n                    100\\n                ],\\n                [\\n                    \"t\",\\n                    150\\n                ],\\n                [\\n                    \"t\",\\n                    200\\n                ],\\n                [\\n                    \"t\",\\n                    250\\n                ],\\n                [\\n                    \"t\",\\n                    300\\n                ],\\n                [\\n                    \"t\",\\n                    400\\n                ],\\n                [\\n                    \"t\",\\n                    500\\n                ],\\n                [\\n                    \"t\",\\n                    600\\n                ],\\n                [\\n                    \"t\",\\n                    700\\n                ],\\n                [\\n                    \"t\",\\n                    850\\n                ],\\n                [\\n                    \"t\",\\n                    925\\n                ],\\n                [\\n                    \"t\",\\n                    1000\\n                ],\\n                [\\n                    \"u\",\\n                    50\\n                ],\\n                [\\n                    \"u\",\\n                    100\\n                ],\\n                [\\n                    \"u\",\\n                    150\\n                ],\\n                [\\n                    \"u\",\\n                    200\\n                ],\\n                [\\n                    \"u\",\\n                    250\\n                ],\\n                [\\n                    \"u\",\\n                    300\\n                ],\\n                [\\n                    \"u\",\\n                    400\\n                ],\\n                [\\n                    \"u\",\\n                    500\\n                ],\\n                [\\n                    \"u\",\\n                    600\\n                ],\\n                [\\n                    \"u\",\\n                    700\\n                ],\\n                [\\n                    \"u\",\\n                    850\\n                ],\\n                [\\n                    \"u\",\\n                    925\\n                ],\\n                [\\n                    \"u\",\\n                    1000\\n                ],\\n                [\\n                    \"v\",\\n                    50\\n                ],\\n                [\\n                    \"v\",\\n                    100\\n                ],\\n                [\\n                    \"v\",\\n                    150\\n                ],\\n                [\\n                    \"v\",\\n                    200\\n                ],\\n                [\\n                    \"v\",\\n                    250\\n                ],\\n                [\\n                    \"v\",\\n                    300\\n                ],\\n                [\\n                    \"v\",\\n                    400\\n                ],\\n                [\\n                    \"v\",\\n                    500\\n                ],\\n                [\\n                    \"v\",\\n                    600\\n                ],\\n                [\\n                    \"v\",\\n                    700\\n                ],\\n                [\\n                    \"v\",\\n                    850\\n                ],\\n                [\\n                    \"v\",\\n                    925\\n                ],\\n                [\\n                    \"v\",\\n                    1000\\n                ],\\n                [\\n                    \"w\",\\n                    50\\n                ],\\n                [\\n                    \"w\",\\n                    100\\n                ],\\n                [\\n                    \"w\",\\n                    150\\n                ],\\n                [\\n                    \"w\",\\n                    200\\n                ],\\n                [\\n                    \"w\",\\n                    250\\n                ],\\n                [\\n                    \"w\",\\n                    300\\n                ],\\n                [\\n                    \"w\",\\n                    400\\n                ],\\n                [\\n                    \"w\",\\n                    500\\n                ],\\n                [\\n                    \"w\",\\n                    600\\n                ],\\n                [\\n                    \"w\",\\n                    700\\n                ],\\n                [\\n                    \"w\",\\n                    850\\n                ],\\n                [\\n                    \"w\",\\n                    925\\n                ],\\n                [\\n                    \"w\",\\n                    1000\\n                ],\\n                [\\n                    \"z\",\\n                    50\\n                ],\\n                [\\n                    \"z\",\\n                    100\\n                ],\\n                [\\n                    \"z\",\\n                    150\\n                ],\\n                [\\n                    \"z\",\\n                    200\\n                ],\\n                [\\n                    \"z\",\\n                    250\\n                ],\\n                [\\n                    \"z\",\\n                    300\\n                ],\\n                [\\n                    \"z\",\\n                    400\\n                ],\\n                [\\n                    \"z\",\\n                    500\\n                ],\\n                [\\n                    \"z\",\\n                    600\\n                ],\\n                [\\n                    \"z\",\\n                    700\\n                ],\\n                [\\n                    \"z\",\\n                    850\\n                ],\\n                [\\n                    \"z\",\\n                    925\\n                ],\\n                [\\n                    \"z\",\\n                    1000\\n                ]\\n            ],\\n            \"sfc\": [\\n                \"10u\",\\n                \"10v\",\\n                \"2d\",\\n                \"2t\",\\n                \"cp\",\\n                \"lsm\",\\n                \"msl\",\\n                \"sdor\",\\n                \"skt\",\\n                \"slor\",\\n                \"sp\",\\n                \"tcw\",\\n                \"tp\",\\n                \"z\"\\n            ]\\n        },\\n        \"param_step\": {\\n            \"sfc\": [\\n                [\\n                    \"cp\",\\n                    6\\n                ],\\n                [\\n                    \"tp\",\\n                    6\\n                ]\\n            ]\\n        }\\n    },\\n    \"description\": \"Example for the anemoi documentation\",\\n    \"end_date\": \"2023-12-31T18:00:00\",\\n    \"ensemble_dimension\": 1,\\n    \"field_shape\": [\\n        73,\\n        144\\n    ],\\n    \"flatten_grid\": true,\\n    \"frequency\": 6,\\n    \"history\": [\\n        {\\n            \"action\": \"initialised\",\\n            \"timestamp\": \"2024-04-10T20:14:51.833433\"\\n        },\\n        {\\n            \"action\": \"statistics_registry_initialised\",\\n            \"timestamp\": \"2024-04-10T20:14:51.878029\",\\n            \"version\": 3\\n        },\\n        {\\n            \"action\": \"init finished\",\\n            \"timestamp\": \"2024-04-10T20:14:51.937280\"\\n        },\\n        {\\n            \"action\": \"loading_data_start\",\\n            \"parts\": null,\\n            \"timestamp\": \"2024-04-10T20:14:51.975817\"\\n        },\\n        {\\n            \"action\": \"loading_data_end\",\\n            \"parts\": null,\\n            \"timestamp\": \"2024-04-11T16:36:20.703555\"\\n        },\\n        {\\n            \"action\": \"compute_statistics_end\",\\n            \"timestamp\": \"2024-04-11T16:36:24.681755\"\\n        }\\n    ],\\n    \"latest_write_timestamp\": \"2024-04-11T16:36:20.691084\",\\n    \"licence\": \"CC-BY-4.0\",\\n    \"missing_dates\": [],\\n    \"order_by\": [\\n        {\\n            \"valid_datetime\": \"ascending\"\\n        },\\n        {\\n            \"param_level\": \"ascending\"\\n        },\\n        {\\n            \"number\": \"ascending\"\\n        }\\n    ],\\n    \"proj_string\": \"+proj=longlat +datum=WGS84 +no_defs +type=crs\",\\n    \"provenance_load\": {\\n        \"git_versions\": {\\n            \"anemoi.datasets\": {\\n                \"git\": {\\n                    \"modified_files\": 0,\\n                    \"sha1\": \"4e69bfc91cb905419fd8627534217090683c6e9c\",\\n                    \"untracked_files\": 0\\n                }\\n            },\\n            \"climetlab\": {\\n                \"git\": {\\n                    \"modified_files\": 0,\\n                    \"sha1\": \"a6e70a078d5665d500b0fbbc40fa3e243a3c93a6\",\\n                    \"untracked_files\": 2\\n                }\\n            },\\n            \"earthkit.meteo\": {\\n                \"git\": {\\n                    \"modified_files\": 1,\\n                    \"sha1\": \"48deab917733b8da968681f11def5b310bd9c78f\",\\n                    \"untracked_files\": 0\\n                }\\n            }\\n        },\\n        \"module_versions\": {\\n            \"_cffi_backend\": \"1.16.0\",\\n            \"_csv\": \"1.0\",\\n            \"_ctypes\": \"1.1.0\",\\n            \"_decimal\": \"1.70\",\\n            \"anemoi.datasets\": \"0.1.0\",\\n            \"argparse\": \"1.1\",\\n            \"certifi\": \"2024.02.02\",\\n            \"cffi\": \"1.16.0\",\\n            \"cgi\": \"2.6\",\\n            \"charset_normalizer\": \"3.3.2\",\\n            \"climetlab\": \"0.21.5\",\\n            \"csv\": \"1.0\",\\n            \"ctypes\": \"1.1.0\",\\n            \"dateutil\": \"2.8.2\",\\n            \"decimal\": \"1.70\",\\n            \"earthkit.meteo\": \"0.0.2.dev0+g48deab9.d20230908\",\\n            \"eccodes\": \"2.34.1\",\\n            \"ecmwf.opendata\": \"0.2.0\",\\n            \"ecmwfapi\": \"1.6.3\",\\n            \"ecmwflibs\": \"0.6.3\",\\n            \"entrypoints\": \"0.4\",\\n            \"fasteners\": \"0.19\",\\n            \"filelock\": \"3.13.1\",\\n            \"findlibs\": \"0.0.5\",\\n            \"fsspec\": \"2024.2.0\",\\n            \"gribapi\": \"2.34.1\",\\n            \"idna\": \"3.6\",\\n            \"ipaddress\": \"1.0\",\\n            \"json\": \"2.0.9\",\\n            \"logging\": \"0.5.1.2\",\\n            \"markdown\": \"3.5.2\",\\n            \"multiurl\": \"0.2.3.2\",\\n            \"numcodecs\": \"0.12.1\",\\n            \"numpy\": \"1.26.4\",\\n            \"pandas\": \"2.2.0\",\\n            \"platform\": \"1.0.8\",\\n            \"pycparser\": \"2.21\",\\n            \"pytz\": \"2024.1\",\\n            \"re\": \"2.2.1\",\\n            \"requests\": \"2.31.0\",\\n            \"semantic_version\": \"2.10.0\",\\n            \"six\": \"1.16.0\",\\n            \"tomli\": \"2.0.1\",\\n            \"tqdm\": \"4.66.2\",\\n            \"urllib3\": \"2.0.7\",\\n            \"yaml\": \"6.0.1\",\\n            \"zarr\": \"2.16.1\",\\n            \"zlib\": \"1.0\"\\n        },\\n        \"python\": \"3.10.12\",\\n        \"time\": \"2024-04-11T16:36:21.695044\"\\n    },\\n    \"remapping\": {\\n        \"param_level\": \"{param}_{levelist}\"\\n    },\\n    \"resolution\": 2.5,\\n    \"start_date\": \"2023-01-01T00:00:00\",\\n    \"statistics_end_date\": \"2023-10-19T23:59:59\",\\n    \"statistics_start_date\": \"2023-01-01T00:00:00\",\\n    \"total_number_of_files\": 1488,\\n    \"total_size\": 3664559223,\\n    \"uuid\": \"13156088-19a5-40fd-b32b-0dffa74d1821\",\\n    \"variables\": [\\n        \"10u\",\\n        \"10v\",\\n        \"2d\",\\n        \"2t\",\\n        \"cos_julian_day\",\\n        \"cos_latitude\",\\n        \"cos_local_time\",\\n        \"cos_longitude\",\\n        \"cp\",\\n        \"insolation\",\\n        \"lsm\",\\n        \"msl\",\\n        \"q_100\",\\n        \"q_1000\",\\n        \"q_150\",\\n        \"q_200\",\\n        \"q_250\",\\n        \"q_300\",\\n        \"q_400\",\\n        \"q_50\",\\n        \"q_500\",\\n        \"q_600\",\\n        \"q_700\",\\n        \"q_850\",\\n        \"q_925\",\\n        \"sdor\",\\n        \"sin_julian_day\",\\n        \"sin_latitude\",\\n        \"sin_local_time\",\\n        \"sin_longitude\",\\n        \"skt\",\\n        \"slor\",\\n        \"sp\",\\n        \"t_100\",\\n        \"t_1000\",\\n        \"t_150\",\\n        \"t_200\",\\n        \"t_250\",\\n        \"t_300\",\\n        \"t_400\",\\n        \"t_50\",\\n        \"t_500\",\\n        \"t_600\",\\n        \"t_700\",\\n        \"t_850\",\\n        \"t_925\",\\n        \"tcw\",\\n        \"tp\",\\n        \"u_100\",\\n        \"u_1000\",\\n        \"u_150\",\\n        \"u_200\",\\n        \"u_250\",\\n        \"u_300\",\\n        \"u_400\",\\n        \"u_50\",\\n        \"u_500\",\\n        \"u_600\",\\n        \"u_700\",\\n        \"u_850\",\\n        \"u_925\",\\n        \"v_100\",\\n        \"v_1000\",\\n        \"v_150\",\\n        \"v_200\",\\n        \"v_250\",\\n        \"v_300\",\\n        \"v_400\",\\n        \"v_50\",\\n        \"v_500\",\\n        \"v_600\",\\n        \"v_700\",\\n        \"v_850\",\\n        \"v_925\",\\n        \"w_100\",\\n        \"w_1000\",\\n        \"w_150\",\\n        \"w_200\",\\n        \"w_250\",\\n        \"w_300\",\\n        \"w_400\",\\n        \"w_50\",\\n        \"w_500\",\\n        \"w_600\",\\n        \"w_700\",\\n        \"w_850\",\\n        \"w_925\",\\n        \"z\",\\n        \"z_100\",\\n        \"z_1000\",\\n        \"z_150\",\\n        \"z_200\",\\n        \"z_250\",\\n        \"z_300\",\\n        \"z_400\",\\n        \"z_50\",\\n        \"z_500\",\\n        \"z_600\",\\n        \"z_700\",\\n        \"z_850\",\\n        \"z_925\"\\n    ],\\n    \"variables_with_nans\": [],\\n    \"version\": \"0.20\"\\n}'\n",
      "ATTRIB: ['_create_yaml_config', 'copyright', 'data_request', 'description', 'end_date', 'ensemble_dimension', 'field_shape', 'flatten_grid', 'frequency', 'history', 'latest_write_timestamp', 'licence', 'missing_dates', 'order_by', 'proj_string', 'provenance_load', 'remapping', 'resolution', 'start_date', 'statistics_end_date', 'statistics_start_date', 'total_number_of_files', 'total_size', 'uuid', 'variables', 'variables_with_nans', 'version']\n",
      "\n",
      "r content from HTTPS: b'{\\n    \"chunks\": [\\n        1,\\n        101,\\n        1,\\n        10512\\n    ],\\n    \"compressor\": {\\n        \"blocksize\": 0,\\n        \"clevel\": 5,\\n        \"cname\": \"lz4\",\\n        \"id\": \"blosc\",\\n        \"shuffle\": 1\\n    },\\n    \"dtype\": \"<f4\",\\n    \"fill_value\": 0.0,\\n    \"filters\": null,\\n    \"order\": \"C\",\\n    \"shape\": [\\n        1460,\\n        101,\\n        1,\\n        10512\\n    ],\\n    \"zarr_format\": 2\\n}'\n",
      "mutate\n",
      "mutate\n",
      "mutate\n"
     ]
    },
    {
     "data": {
      "text/html": [
       "<style>table.dataset td {\n",
       "    vertical-align: top;\n",
       "    text-align: left !important;\n",
       "}\n",
       "\n",
       "table.dataset span.dataset {\n",
       "    font-weight: bold !important;\n",
       "}\n",
       "\n",
       "table.dataset span.values {\n",
       "    font-style: italic !important;\n",
       "}\n",
       "</style>\n",
       "<table class=\"dataset\">\n",
       "<tr><td> <span class=\"dataset\">zarr</span> ...-store.os-api.cci1.ecmwf.int/ml-examples/an-oper-2023-2023-2p5-6h-v1.zarr</td></tr>\n",
       "</table>"
      ],
      "text/plain": [
       "https://object-store.os-api.cci1.ecmwf.int/ml-examples/an-oper-2023-2023-2p5-6h-v1.zarr"
      ]
     },
     "execution_count": 1,
     "metadata": {},
     "output_type": "execute_result"
    }
   ],
   "source": [
    "# ECMWF\n",
    "from __init__ import add_dataset_path\n",
    "from __init__ import open_dataset\n",
    "# import time\n",
    "\n",
    "add_dataset_path(\"https://object-store.os-api.cci1.ecmwf.int/ml-examples/\")\n",
    "# time.sleep(3)\n",
    "\n",
    "# Opening entire dataset w/out filter.\n",
    "ds = open_dataset(\"an-oper-2023-2023-2p5-6h-v1\")\n",
    "\n",
    "# Subsetting is the action of filtering the dataset by it’s first dimension (dates).\n",
    "'''\n",
    "** start & end: **\n",
    "The following are equivalent ways of describing start or end:\n",
    "\n",
    "2020 and \"2020\"\n",
    "202306, \"202306\" and \"2023-06\"\n",
    "20200301, \"20200301\" and \"2020-03-01\"\n",
    "\n",
    "Note: \n",
    "- start=\"2020\" is equivalent to start=\"2020-01-01\" while end=\"2020\" is equivalent to end=\"2020-12-31\".\n",
    "- Frequency of the dataset will change how the end option is interpreted: - end=\"2020\" with a frequency of one hour \n",
    "is equivalent to end=\"2020-12-31 23:00:00\" - end=\"2020\" with a frequency of 6 hours is equivalent to end=\"2020-12-31 18:00:00\"\n",
    "\n",
    "** frequency **\n",
    "- The new frequency must be a multiple of the original frequency.\n",
    "- To artificially increase the frequency, you can use the \"interpolate_frequency\" option, which will create new dates in the \n",
    "dataset by linearly interpolating the data values between the original dates. Ex: ds = open_dataset(dataset, interpolate_frequency=\"10m\")\n",
    "\n",
    "'''\n",
    "#ds = open_dataset(\"an-oper-2023-2023-2p5-6h-v1\", start=\"2023-1-01\", end=\"2023-12-30\")# ECMWF ERA5 data file's metadata reveals dates are from 2023-1-01T00:00:00 to 2023-12-31T18:00:00 found via ds.dates\n",
    "#ds = open_dataset(\"an-oper-2023-2023-2p5-6h-v1\", start=\"2023\", end=\"2023\")# ECMWF ERA5 data file's metadata reveals dates are from 2023-1-01T00:00:00 to 2023-12-31T18:00:00\n",
    "#ds = open_dataset(\"an-oper-2023-2023-2p5-6h-v1\", frequency = \"6h\", start=\"2023\", end=\"2023\")# ECMWF ERA5 data file's metadata reveals dates are from 2023-1-01T00:00:00 to 2023-12-31T18:00:00 @ freq. multiples of 6h, 12h, etc; must be of proper frequency or will rcv error\n",
    "#ds = open_dataset(\"an-oper-2023-2023-2p5-6h-v1\", interpolate_frequency=\"1h\", start=\"2023\", end=\"2023\")\n",
    "#ds = open_dataset(\"an-oper-2023-2023-2p5-6h-v1\", \"an-oper-2023-2023-2p5-6h-v1\")#, thinning=2)\n",
    "ds\n"
   ]
  },
  {
   "cell_type": "code",
   "execution_count": null,
   "id": "31d690a6-f086-4333-a72b-8f4c4c9ff64f",
   "metadata": {},
   "outputs": [],
   "source": [
    "ds.metadata()"
   ]
  },
  {
   "cell_type": "code",
   "execution_count": null,
   "id": "602f41d3-a054-4b1c-ae95-6c5ca49b86f5",
   "metadata": {},
   "outputs": [],
   "source": [
    "# Demo: Methods of open_dataset's output:\n",
    "\n",
    "# The following methods and attributes are available for the objects returned by open_dataset.\n",
    "\n",
    "# Return the dataset’s metadata.\n",
    "#ds.metadata()\n",
    "\n",
    "# Return the dataset’s provenance information.\n",
    "#ds.provenance\n",
    "\n",
    "# For debugging. Given the index of a variable, this will return from which Zarr store it will be loaded. This is useful to debug combining datasets with join.\n",
    "#ds.source(4)\n",
    "\n",
    "# For debugging. Return the dataset’s internal tree structure.\n",
    "#ds.tree()\n",
    "\n",
    "# Demo: Attributes of open_dataset's output:\n",
    "\n",
    "# shape: A tuple of the dataset’s dimensions.\n",
    "#ds.shape\n",
    "\n",
    "# field_shape: The original shape of a single field, either 1D or 2D. When building datasets, the fields are flattened to 1D.\n",
    "#ds.field_shape\n",
    "\n",
    "# dtype: The dataset’s NumPy data type.\n",
    "#ds.dtype\n",
    "\n",
    "# dates: The dataset’s dates, as a NumPy vector of datetime64 objects.\n",
    "#ds.dates\n",
    "\n",
    "# frequency: The dataset’s frequency (i.e the delta between two consecutive dates) in hours.\n",
    "#ds.frequency\n",
    "\n",
    "# latitudes: The dataset’s latitudes as a NumPy vector.\n",
    "#ds.latitudes\n",
    "\n",
    "# longitudes: The dataset’s longitudes as a NumPy vector.\n",
    "#ds.longitudes\n",
    "\n",
    "# statistics: The dataset’s statistics. This is a dictionary with the following entries:\n",
    "#ds.statistics\n",
    "\n",
    "# Example: Statistics can be used such that each entry is a NumPy vector with the same length as the number of variables, each element corresponding to a variable. You can therefore use it like:\n",
    "#values = ds[0]\n",
    "#normalized = (values - ds.statistics[\"mean\"])/ ds.statistics[\"stdev\"]\n",
    "\n",
    "\n",
    "# resolution: The dataset’s resolution.\n",
    "#ds.resolution\n",
    "\n",
    "# name_to_index: A dictionary mapping variable names to their indices.\n",
    "#ds.name_to_index[\"2t\"])\n",
    "\n",
    "# variables: A list of the dataset’s variable names, in the order they appear in the dataset.\n",
    "ds.variables\n",
    "\n",
    "# missing: The set of indices of the missing dates.\n",
    "#ds.missing\n",
    "\n",
    "# grids: A tuple of number of grid points for each dataset that is combined with the grids method.\n",
    "#ds.grids\n",
    "\n",
    "# Demo: Slicing & Indexing a dataset opened via open_dataset:\n",
    "#ds[0]\n",
    "#ds[-1]\n",
    "#ds[0:10]\n",
    "#ds[0:10:2]\n",
    "#ds[0, 1, :]\n",
    "\n",
    "# *** 10/10/24 ====> LEFT OFF ON GUIDE: https://anemoi-datasets.readthedocs.io/en/latest/using/combining.html\n"
   ]
  },
  {
   "cell_type": "code",
   "execution_count": null,
   "id": "6a7d8c58-0833-4f1d-a1a2-8e00f5126408",
   "metadata": {},
   "outputs": [],
   "source": [
    "# Local zarr with 'data' defined --     [ 10/10/24: ***** LEFT OFF ***** ]\n",
    "\n",
    "'''\n",
    "Findings: S3Stores method is not being used and goes to default HTTPStore method\n",
    "\n",
    "'''\n",
    "from __init__ import add_dataset_path\n",
    "from __init__ import open_dataset, list_dataset_names\n",
    "import boto3\n",
    "\n",
    "add_dataset_path(\"/Users/pandora/Desktop/code/PYTHON/CURRENT_WORK_PERFORMED_ON_MAC_M2/anemoi/gh_most_uptodate/anemoi-datasets/src/anemoi/datasets/data\")\n",
    "#list_dataset_names(\"test\")\n",
    "\n",
    "# Opening entire dataset w/out filter.\n",
    "ds = open_dataset(\"test\")\n",
    "\n",
    "# Subsetting is the action of filtering the dataset by it’s first dimension (dates).\n",
    "'''\n",
    "** start & end: **\n",
    "The following are equivalent ways of describing start or end:\n",
    "\n",
    "2020 and \"2020\"\n",
    "202306, \"202306\" and \"2023-06\"\n",
    "20200301, \"20200301\" and \"2020-03-01\"\n",
    "\n",
    "Note: \n",
    "- start=\"2020\" is equivalent to start=\"2020-01-01\" while end=\"2020\" is equivalent to end=\"2020-12-31\".\n",
    "- Frequency of the dataset will change how the end option is interpreted: - end=\"2020\" with a frequency of one hour \n",
    "is equivalent to end=\"2020-12-31 23:00:00\" - end=\"2020\" with a frequency of 6 hours is equivalent to end=\"2020-12-31 18:00:00\"\n",
    "\n",
    "** frequency **\n",
    "- The new frequency must be a multiple of the original frequency.\n",
    "- To artificially increase the frequency, you can use the \"interpolate_frequency\" option, which will create new dates in the \n",
    "dataset by linearly interpolating the data values between the original dates. Ex: ds = open_dataset(dataset, interpolate_frequency=\"10m\")\n",
    "\n",
    "'''\n",
    "#ds = open_dataset(\"test\", start=\"2023-1-01\", end=\"2023-12-30\")# ECMWF ERA5 data file's metadata reveals dates are from 2023-1-01T00:00:00 to 2023-12-31T18:00:00 found via ds.dates\n",
    "#ds = open_dataset(\"test\", start=\"2023\", end=\"2023\")# ECMWF ERA5 data file's metadata reveals dates are from 2023-1-01T00:00:00 to 2023-12-31T18:00:00\n",
    "#ds = open_dataset(\"test\", frequency = \"6h\", start=\"2023\", end=\"2023\")# ECMWF ERA5 data file's metadata reveals dates are from 2023-1-01T00:00:00 to 2023-12-31T18:00:00 @ freq. multiples of 6h, 12h, etc; must be of proper frequency or will rcv error\n",
    "#ds = open_dataset(\"test\", interpolate_frequency=\"1h\", start=\"2023\", end=\"2023\")\n",
    "#ds = open_dataset(\"test\", \"an-oper-2023-2023-2p5-6h-v1\")#, thinning=2)\n",
    "ds"
   ]
  },
  {
   "cell_type": "code",
   "execution_count": null,
   "id": "d450bc0a-b957-4367-9fab-5fbc160bbdb3",
   "metadata": {},
   "outputs": [],
   "source": []
  },
  {
   "cell_type": "code",
   "execution_count": null,
   "id": "c281dabb-81a3-4d64-ba09-26cf459860e4",
   "metadata": {},
   "outputs": [],
   "source": [
    "ds.metadata()"
   ]
  },
  {
   "cell_type": "code",
   "execution_count": null,
   "id": "79220821-f3c8-4ad6-827a-4973758d3b05",
   "metadata": {},
   "outputs": [],
   "source": [
    "# Demo: Methods of open_dataset's output:\n",
    "\n",
    "# The following methods and attributes are available for the objects returned by open_dataset.\n",
    "\n",
    "# Return the dataset’s metadata.\n",
    "#ds.metadata()\n",
    "\n",
    "# Return the dataset’s provenance information.\n",
    "#ds.provenance\n",
    "\n",
    "# For debugging. Given the index of a variable, this will return from which Zarr store it will be loaded. This is useful to debug combining datasets with join.\n",
    "#ds.source(4)\n",
    "\n",
    "# For debugging. Return the dataset’s internal tree structure.\n",
    "#ds.tree()\n",
    "\n",
    "# Demo: Attributes of open_dataset's output:\n",
    "\n",
    "# shape: A tuple of the dataset’s dimensions.\n",
    "#ds.shape\n",
    "\n",
    "# field_shape: The original shape of a single field, either 1D or 2D. When building datasets, the fields are flattened to 1D.\n",
    "#ds.field_shape\n",
    "\n",
    "# dtype: The dataset’s NumPy data type.\n",
    "#ds.dtype\n",
    "\n",
    "# dates: The dataset’s dates, as a NumPy vector of datetime64 objects.\n",
    "#ds.dates\n",
    "\n",
    "# frequency: The dataset’s frequency (i.e the delta between two consecutive dates) in hours.\n",
    "#ds.frequency\n",
    "\n",
    "# latitudes: The dataset’s latitudes as a NumPy vector.\n",
    "#ds.latitudes\n",
    "\n",
    "# longitudes: The dataset’s longitudes as a NumPy vector.\n",
    "#ds.longitudes\n",
    "\n",
    "# statistics: The dataset’s statistics. This is a dictionary with the following entries:\n",
    "#ds.statistics\n",
    "\n",
    "# Example: Statistics can be used such that each entry is a NumPy vector with the same length as the number of variables, each element corresponding to a variable. You can therefore use it like:\n",
    "#values = ds[0]\n",
    "#normalized = (values - ds.statistics[\"mean\"])/ ds.statistics[\"stdev\"]\n",
    "\n",
    "\n",
    "# resolution: The dataset’s resolution.\n",
    "#ds.resolution\n",
    "\n",
    "# name_to_index: A dictionary mapping variable names to their indices.\n",
    "#ds.name_to_index[\"2t\"]\n",
    "\n",
    "# variables: A list of the dataset’s variable names, in the order they appear in the dataset.\n",
    "ds.variables\n",
    "\n",
    "# missing: The set of indices of the missing dates.\n",
    "#ds.missing\n",
    "\n",
    "# grids: A tuple of number of grid points for each dataset that is combined with the grids method.\n",
    "#ds.grids\n",
    "\n",
    "# Demo: Slicing & Indexing a dataset opened via open_dataset:\n",
    "#ds[0]\n",
    "#ds[-1]\n",
    "#ds[0:10]\n",
    "#ds[0:10:2]\n",
    "#ds[0, 1, :]\n",
    "\n",
    "# *** 10/10/24 ====> LEFT OFF ON GUIDE: https://anemoi-datasets.readthedocs.io/en/latest/using/combining.html"
   ]
  },
  {
   "cell_type": "code",
   "execution_count": null,
   "id": "9ddd1ab4-8a19-4dc9-9b67-6756d88cd9b3",
   "metadata": {},
   "outputs": [],
   "source": [
    "# GCP w/ gs://\n",
    "'''\n",
    "Findings: S3Stores method is not being used and goes to default HTTPStore method\n",
    "'''\n",
    "from __init__ import add_dataset_path\n",
    "from __init__ import open_dataset\n",
    "import boto3\n",
    "\n",
    "add_dataset_path(\"gs://gcp-public-data-arco-era5/ar/\") # CANNOT USE SINCE A GCPStore method DNE\n",
    "#add_dataset_path(\"https://console.cloud.google.com/storage/browser/gcp-public-data-arco-era5/ar/\")\n",
    "ds = open_dataset(\"1959-2022-full_37-6h-0p25deg_derived\")#, thinning=2)\n",
    "ds\n"
   ]
  },
  {
   "cell_type": "code",
   "execution_count": null,
   "id": "cbb516f4-f62b-4efc-9598-d718bfa21f68",
   "metadata": {},
   "outputs": [],
   "source": [
    "# S3 w/ s3://\n",
    "'''\n",
    "Findings: S3Stores method is not being used and goes to default HTTPStore method\n",
    "'''\n",
    "from __init__ import add_dataset_path\n",
    "from __init__ import open_dataset\n",
    "import boto3\n",
    "\n",
    "add_dataset_path(\"s3://noaa-ufs-regtests-pds.s3.amazonaws.com/BM_IC-20220207/2012010100/cpc/\") # WILL NOT WORK BECAUSE ??????****\n",
    "#add_dataset_path(\"https://noaa-ufs-regtests-pds.s3.amazonaws.com/BM_IC-20220207/2012010100/cpc/\")\n",
    "ds = open_dataset(\"cice5_model_0.25.res_2012010100.nc\")#, thinning=2)\n",
    "ds"
   ]
  },
  {
   "cell_type": "markdown",
   "id": "ada37211-94c1-4b34-a706-2575c5221138",
   "metadata": {},
   "source": [
    "# fs mapper gs://"
   ]
  },
  {
   "cell_type": "code",
   "execution_count": null,
   "id": "741dab18-3199-449c-a882-baf0ece05caf",
   "metadata": {},
   "outputs": [],
   "source": [
    "# GCP w/ fs mapper gs://\n",
    "import zarr\n",
    "import gcsfs\n",
    "import xarray as xr\n",
    "import planetary_computer\n",
    "import re\n",
    "bucket_name = \"gcp-public-data-arco-era5\"\n",
    "fs = gcsfs.GCSFileSystem(project=f'{bucket_name}_fs')\n",
    "\n",
    "print(f\"Data Categories (higher-level prefix):\\n{fs.ls(bucket_name)}\")\n",
    "mapper = fs.get_mapper(f\"gs://{bucket_name}/ar/1959-2022-full_37-6h-0p25deg_derived.zarr\")\n"
   ]
  },
  {
   "cell_type": "markdown",
   "id": "a3bc2348-9fb3-4084-92d9-c368b5f51320",
   "metadata": {},
   "source": [
    "#### _open_dataset(url with filename.zarr)\n",
    "\n",
    "__Findings:__ _open_dataset seeks for a variable called 'data' in a zarr file\n"
   ]
  },
  {
   "cell_type": "code",
   "execution_count": null,
   "id": "c3423101-992f-4c58-863a-d7ce0917559b",
   "metadata": {},
   "outputs": [],
   "source": []
  },
  {
   "cell_type": "code",
   "execution_count": null,
   "id": "2106f4a5-de16-43a7-a059-2127a0800bf4",
   "metadata": {},
   "outputs": [],
   "source": [
    "# Local ERA5 from GCP \n",
    "from misc import _open_dataset\n",
    "path = \"test.zarr\"\n",
    "#path=\"/Users/pandora/Desktop/code/PYTHON/CURRENT_WORK_PERFORMED_ON_MAC_M2/anemoi/dataset_module/anemoi-datasets-develop/src/anemoi/datasets/data/test.zarr\"\n",
    "local_test_rename_var_as_data = _open_dataset(path)\n"
   ]
  },
  {
   "cell_type": "code",
   "execution_count": null,
   "id": "352bbfc5-3072-4a6c-865d-e880c9fd3022",
   "metadata": {},
   "outputs": [],
   "source": []
  },
  {
   "cell_type": "code",
   "execution_count": null,
   "id": "4bb7b2fe-53a3-4e20-8dfc-75098559f78b",
   "metadata": {},
   "outputs": [],
   "source": []
  },
  {
   "cell_type": "code",
   "execution_count": null,
   "id": "c4c916b5-a2ae-4c6b-b4b8-23c114cd4e93",
   "metadata": {},
   "outputs": [],
   "source": [
    "for i in local_test_rename_var_as_data.data:\n",
    "    print(i)"
   ]
  },
  {
   "cell_type": "code",
   "execution_count": null,
   "id": "1d1461f0-dec7-4a7f-a900-d1a0a0c6faf0",
   "metadata": {},
   "outputs": [],
   "source": [
    "# ERA5 from GCP w/ https\n",
    "from misc import _open_dataset\n",
    "path_gcp_https = \"https://console.cloud.google.com/storage/browser/gcp-public-data-arco-era5/ar/1959-2022-full_37-6h-0p25deg_derived.zarr\"\n",
    "_open_dataset(path_gcp_https)"
   ]
  },
  {
   "cell_type": "code",
   "execution_count": null,
   "id": "61437ed8-b18f-4835-bc45-2e50233c8c0c",
   "metadata": {},
   "outputs": [],
   "source": [
    "# ERA5 from GCP w/ gs\n",
    "from misc import _open_dataset\n",
    "bucket_name = \"gcp-public-data-arco-era5\"\n",
    "path =f\"gs://{bucket_name}/ar/1959-2022-full_37-6h-0p25deg_derived.zarr\"\n",
    "_open_dataset(path)"
   ]
  },
  {
   "cell_type": "code",
   "execution_count": null,
   "id": "eeea7782-391e-4f13-b31f-22c7f52217b7",
   "metadata": {},
   "outputs": [],
   "source": [
    "# ECMWF w/ https://\n",
    "\n",
    "from misc import _open_dataset\n",
    "path = \"https://object-store.os-api.cci1.ecmwf.int/ml-examples/an-oper-2023-2023-2p5-6h-v1.zarr\"\n",
    "#path = \"test.zarr\"\n",
    "#path=\"/Users/pandora/Desktop/code/PYTHON/CURRENT_WORK_PERFORMED_ON_MAC_M2/anemoi/dataset_module/anemoi-datasets-develop/src/anemoi/datasets/data/test.zarr\"\n",
    "ds = _open_dataset(path)\n",
    "ds"
   ]
  },
  {
   "cell_type": "code",
   "execution_count": null,
   "id": "08a2a240-0b12-4da4-87b2-25c6e052ab5c",
   "metadata": {},
   "outputs": [],
   "source": [
    "for i in ds.data:\n",
    "    print(i)"
   ]
  },
  {
   "cell_type": "code",
   "execution_count": null,
   "id": "3f98e662-f824-4092-b5da-5cd2fca89d41",
   "metadata": {},
   "outputs": [],
   "source": [
    "# S3 w/ https://\n",
    "from misc import _open_dataset\n",
    "\n",
    "path = \"https://noaa-ufs-regtests-pds.s3.amazonaws.com/BM_IC-20220207/2012010100/cpc/cice5_model_0.25.res_2012010100.nc\"\n",
    "ds = _open_dataset(path)\n",
    "ds"
   ]
  },
  {
   "cell_type": "code",
   "execution_count": null,
   "id": "f7ca7ab2-9e58-4465-8e59-1a63fbba6eb8",
   "metadata": {},
   "outputs": [],
   "source": [
    "from stores import Zarr\n",
    "import zarr\n",
    "from stores import zarr_lookup\n",
    "Zarr(zarr_lookup(path)).mutate()"
   ]
  },
  {
   "cell_type": "markdown",
   "id": "28a3f61c-ca78-448c-80c0-9c576c1c3a7e",
   "metadata": {},
   "source": [
    "# HTTPStore(https_url_path)\n",
    "  \n",
    "- Tested on dataset_module/anemoi-datasets develop/src/anemoi/datasets/data/stores.py\n",
    "\n",
    "__Findings:__ Works. HTTPS IMPLEMENTED ONLY For all https CSPs. Currently, S3Stores method is non-functional & GCP store method DNE"
   ]
  },
  {
   "cell_type": "code",
   "execution_count": null,
   "id": "13a4a966-357e-4220-abb7-df488690acec",
   "metadata": {},
   "outputs": [],
   "source": [
    "from stores import *\n",
    "\n",
    "# ECMWF, S3, GCP examples - source w/ https:// paths\n",
    "path_ecmwf = \"https://object-store.os-api.cci1.ecmwf.int/ml-examples/an-oper-2023-2023-2p5-6h-v1.zarr\"\n",
    "path_s3 = \"https://noaa-ufs-regtests-pds.s3.amazonaws.com/BM_IC-20220207/2012010100/cpc/cice5_model_0.25.res_2012010100.nc\"\n",
    "path_gcp = \"https://console.cloud.google.com/storage/browser/gcp-public-data-arco-era5/co/model-level-moisture.zarr-v2\"\n",
    "\n",
    "# Test HTTPStore\n",
    "HTTPStore(path_gcp)\n"
   ]
  },
  {
   "cell_type": "markdown",
   "id": "49eb8097-5910-4491-a9b1-457055b075cf",
   "metadata": {},
   "source": [
    "# S3Store(s3_url_path)\n",
    "\n",
    "- Tested on dataset_module/anemoi-datasets develop/src/anemoi/datasets/data/stores.py\n",
    "  \n",
    "__Findings:__ Establishing Store for S3 Works. Establishing a store for GCP via gcp client does not exist thus, one cannot call an object from GCP simply via a _gcp:// path_."
   ]
  },
  {
   "cell_type": "code",
   "execution_count": null,
   "id": "d1a6bfee-1ffd-4e67-a986-ba7299448a08",
   "metadata": {},
   "outputs": [],
   "source": [
    "from stores import *\n",
    "p = \"s3://noaa-ufs-regtests-pds.s3.amazonaws.com/BM_IC-20220207/2012010100/cpc/cice5_model_0.25.res_2012010100.nc\"\n",
    "\n",
    "# Test S3Store\n",
    "S3Store(p)"
   ]
  },
  {
   "cell_type": "code",
   "execution_count": null,
   "id": "16bde032-fdee-4e4e-9f71-5f56901ca7ae",
   "metadata": {},
   "outputs": [],
   "source": []
  }
 ],
 "metadata": {
  "kernelspec": {
   "display_name": "anemoi",
   "language": "python",
   "name": "anemoi"
  },
  "language_info": {
   "codemirror_mode": {
    "name": "ipython",
    "version": 3
   },
   "file_extension": ".py",
   "mimetype": "text/x-python",
   "name": "python",
   "nbconvert_exporter": "python",
   "pygments_lexer": "ipython3",
   "version": "3.11.9"
  }
 },
 "nbformat": 4,
 "nbformat_minor": 5
}
