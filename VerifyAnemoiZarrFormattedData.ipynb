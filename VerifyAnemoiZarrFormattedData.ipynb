{
 "cells": [
  {
   "cell_type": "markdown",
   "id": "b9e2dda8-072f-47aa-b3e1-4db9aa3c2d8e",
   "metadata": {},
   "source": [
    "# Verify generated anemoi formatted Zarr **LEFT OFF 09/16/24**"
   ]
  },
  {
   "cell_type": "code",
   "execution_count": null,
   "id": "16b7a1c6-f0ca-4e29-aa5d-f1985f6f87c8",
   "metadata": {},
   "outputs": [],
   "source": [
    "# test_s3_nc.zarr\n",
    "'''\n",
    "NC test sample derived from anemoi framework.\n",
    "\n",
    "fn=\"e5.oper.an.pl.128_060_pv.ll025sc.2024030100_2024030123.nc\" \n",
    "pattern = f\"s3://nsf-ncar-era5/e5.oper.an.pl/202403/{fn}\"\n",
    "\n",
    "'''\n",
    "import xarray as xr\n",
    "import gcsfs\n",
    "\n",
    "## Load Zarr\n",
    "s3_nc = xr.open_zarr(\"test_s3_nc.zarr\")#, consolidated=True)\n",
    "s3_nc"
   ]
  },
  {
   "cell_type": "code",
   "execution_count": null,
   "id": "65aaeee3-305f-44c8-a062-33a06eb7a4f0",
   "metadata": {},
   "outputs": [],
   "source": [
    "# test_s3_zarr.zarr\n",
    "'''\n",
    "An extraction of the following placed in S3 as test_ar.zarr.\n",
    "\n",
    "gcp_ar_era5_subset = xr.open_zarr('gs://gcp-public-data-arco-era5/ar/1959-2022-1h-360x181_equiangular_with_poles_conservative.zarr', \n",
    "                    chunks={'time': 48},\n",
    "                    consolidated=True)\n",
    "gcp_ar_era5_subset = gcp_ar_era5_subset.isel(time=slice(-15, -1))\n",
    "gcp_ar_era5_subset \n",
    "\n",
    "'''\n",
    "\n",
    "import xarray as xr\n",
    "import gcsfs\n",
    "\n",
    "## Load Zarr\n",
    "vars = ['2m_temperature',\n",
    "        '10m_u_component_of_wind',\n",
    "        'geopotential',\n",
    "        '10m_v_component_of_wind',\n",
    "        'surface_pressure']\n",
    "gcp_ar_era5_subset = xr.open_zarr(\"test_s3_zarr.zarr\")#, consolidated=True)\n",
    "gcp_ar_era5_subset "
   ]
  },
  {
   "cell_type": "code",
   "execution_count": null,
   "id": "64f25e00-c7fa-47b2-9cec-7e183fa9f649",
   "metadata": {},
   "outputs": [],
   "source": [
    "# test_local_gcp_ar_sample_zarr.zarr\n",
    "'''\n",
    "An extraction of the following placed in local as test_ar.zarr.\n",
    "\n",
    "gcp_ar_era5_subset = xr.open_zarr('gs://gcp-public-data-arco-era5/ar/1959-2022-1h-360x181_equiangular_with_poles_conservative.zarr', \n",
    "                    chunks={'time': 48},\n",
    "                    consolidated=True)\n",
    "gcp_ar_era5_subset = gcp_ar_era5_subset.isel(time=slice(-15, -1))\n",
    "gcp_ar_era5_subset \n",
    "'''\n",
    "\n",
    "import xarray as xr\n",
    "import gcsfs\n",
    "\n",
    "## Load Zarr\n",
    "vars = ['2m_temperature',\n",
    "        '10m_u_component_of_wind',\n",
    "        'geopotential',\n",
    "        '10m_v_component_of_wind',\n",
    "        'surface_pressure']\n",
    "gcp_ar_era5_subset_loc = xr.open_zarr(\"test_local_gcp_ar_sample_zarr.zarr\")#, consolidated=True)\n",
    "gcp_ar_era5_subset_loc "
   ]
  },
  {
   "cell_type": "markdown",
   "id": "632b4365-2861-4916-90eb-273dabb82e88",
   "metadata": {},
   "source": [
    "__Findings:__\n"
   ]
  }
 ],
 "metadata": {
  "kernelspec": {
   "display_name": "anemoi_test",
   "language": "python",
   "name": "anemoi_test"
  },
  "language_info": {
   "codemirror_mode": {
    "name": "ipython",
    "version": 3
   },
   "file_extension": ".py",
   "mimetype": "text/x-python",
   "name": "python",
   "nbconvert_exporter": "python",
   "pygments_lexer": "ipython3",
   "version": "3.10.13"
  }
 },
 "nbformat": 4,
 "nbformat_minor": 5
}
