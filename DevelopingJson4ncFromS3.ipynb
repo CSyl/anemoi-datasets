{
 "cells": [
  {
   "cell_type": "markdown",
   "id": "bb3a13d7-e1fa-460f-9145-a0f374f4042f",
   "metadata": {},
   "source": [
    "# Obtain JSONS & Consolidated into Single JSON For NetCDF From S3\n",
    "\n",
    "__Purpose:__\n",
    "To use kerchunk formatted configuration file in order to request a data anemoi conversion from zarr in cloud."
   ]
  },
  {
   "cell_type": "markdown",
   "id": "06e0fee9-4740-46f2-9b3f-96b1f1bd44ad",
   "metadata": {},
   "source": [
    "### 1) Extracting JSONs from NetCDF(s) stored in S3 & consolidating JSONS into a single JSON. \n",
    "\n",
    "__Finding:__\n",
    "\n",
    "Consolidating JSONs of a data file is a requirement for a data file to be converted into an Anemoi formatted data file.\n",
    "\n",
    "__Data Tested:__\n",
    "  \n",
    "fn=\"e5.oper.an.pl.128_060_pv.ll025sc.2024030100_2024030123.nc\"\n",
    "pattern = f\"s3://nsf-ncar-era5/e5.oper.an.pl/202403/{fn}\"\n"
   ]
  },
  {
   "cell_type": "code",
   "execution_count": 1,
   "id": "c37b1945-3a32-4b35-8835-6f7864864b57",
   "metadata": {},
   "outputs": [
    {
     "name": "stderr",
     "output_type": "stream",
     "text": [
      "100%|█████████████████████████████████████████████| 1/1 [00:14<00:00, 14.12s/it]"
     ]
    },
    {
     "name": "stdout",
     "output_type": "stream",
     "text": [
      "CHECK HERE ON THE JSON & HOW IT LOOKS PRIOR TO IT BEING ADD WITH MULTIZARRTOZARR [{'version': 1, 'refs': {'.zgroup': '{\"zarr_format\":2}', '.zattrs': '{\"CONVERSION_DATE\":\"Mon 03 Jun 2024 06:17:05 PM MDT\",\"CONVERSION_PLATFORM\":\"Linux crhtc58 5.14.21-150400.24.46-default #1 SMP PREEMPT_DYNAMIC Thu Feb 9 08:38:18 UTC 2023 (2d95137) x86_64 x86_64 x86_64 GNU\\\\/Linux\",\"Conventions\":\"CF-1.6\",\"DATA_SOURCE\":\"ECMWF: https:\\\\/\\\\/cds.climate.copernicus.eu, Copernicus Climate Data Store\",\"NCO\":\"netCDF Operators version 5.1.9 (Homepage = http:\\\\/\\\\/nco.sf.net, Code = http:\\\\/\\\\/github.com\\\\/nco\\\\/nco, Citation = 10.1016\\\\/j.envsoft.2008.03.004)\",\"NETCDF_COMPRESSION\":\"NCO: Precision-preserving compression to netCDF4\\\\/HDF5 (see \\\\\"history\\\\\" and \\\\\"NCO\\\\\" global attributes below for specifics).\",\"NETCDF_CONVERSION\":\"CISL RDA: Conversion from ECMWF GRIB 1 data to netCDF4.\",\"NETCDF_VERSION\":\"4.9.2\",\"history\":\"Mon Jun  3 18:17:16 2024: ncks -4 -L 1 --baa=0 --ppc default=7 e5.oper.an.pl.128_060_pv.ll025sc.2024030100_2024030123.unc.nc e5.oper.an.pl.128_060_pv.ll025sc.2024030100_2024030123.nc\"}', 'PV/.zarray': '{\"chunks\":[1,37,721,1440],\"compressor\":null,\"dtype\":\"<f4\",\"fill_value\":9.999000260554009e+20,\"filters\":[{\"elementsize\":4,\"id\":\"shuffle\"},{\"id\":\"zlib\",\"level\":1}],\"order\":\"C\",\"shape\":[24,37,721,1440],\"zarr_format\":2}', 'PV/.zattrs': '{\"QuantizeBitGroomNumberOfSignificantDigits\":7,\"_ARRAY_DIMENSIONS\":[\"time\",\"level\",\"latitude\",\"longitude\"],\"ecmwf_local_table\":128,\"ecmwf_parameter\":60,\"grid_specification\":\"0.25 degree x 0.25 degree from 90N to 90S and 0E to 359.75E (721 x 1440 Latitude\\\\/Longitude)\",\"long_name\":\"Potential vorticity\",\"maximum_value\":0.019496168941259384,\"minimum_value\":-0.011656779795885086,\"missing_value\":9.999000260554009e+20,\"original_format\":\"WMO GRIB 1 with ECMWF local table\",\"rda_dataset\":\"ds633.0\",\"rda_dataset_doi\":\"DOI: 10.5065\\\\/BH6N-5N20\",\"rda_dataset_group\":\"ERA5 atmospheric pressure level analysis [netCDF4]\",\"rda_dataset_url\":\"https:\\\\/rda.ucar.edu\\\\/datasets\\\\/ds633.0\\\\/\",\"short_name\":\"pv\",\"units\":\"K m**2 kg**-1 s**-1\"}', 'PV/0.0.0.0': ['nsf-ncar-era5/e5.oper.an.pl/202403/e5.oper.an.pl.128_060_pv.ll025sc.2024030100_2024030123.nc', 21975, 54430118], 'PV/1.0.0.0': ['nsf-ncar-era5/e5.oper.an.pl/202403/e5.oper.an.pl.128_060_pv.ll025sc.2024030100_2024030123.nc', 54452093, 54324984], 'PV/2.0.0.0': ['nsf-ncar-era5/e5.oper.an.pl/202403/e5.oper.an.pl.128_060_pv.ll025sc.2024030100_2024030123.nc', 108777077, 56274974], 'PV/3.0.0.0': ['nsf-ncar-era5/e5.oper.an.pl/202403/e5.oper.an.pl.128_060_pv.ll025sc.2024030100_2024030123.nc', 165052051, 57933479], 'PV/4.0.0.0': ['nsf-ncar-era5/e5.oper.an.pl/202403/e5.oper.an.pl.128_060_pv.ll025sc.2024030100_2024030123.nc', 222985530, 58061230], 'PV/5.0.0.0': ['nsf-ncar-era5/e5.oper.an.pl/202403/e5.oper.an.pl.128_060_pv.ll025sc.2024030100_2024030123.nc', 281046760, 56689658], 'PV/6.0.0.0': ['nsf-ncar-era5/e5.oper.an.pl/202403/e5.oper.an.pl.128_060_pv.ll025sc.2024030100_2024030123.nc', 337736418, 56772951], 'PV/7.0.0.0': ['nsf-ncar-era5/e5.oper.an.pl/202403/e5.oper.an.pl.128_060_pv.ll025sc.2024030100_2024030123.nc', 394509369, 56366618], 'PV/8.0.0.0': ['nsf-ncar-era5/e5.oper.an.pl/202403/e5.oper.an.pl.128_060_pv.ll025sc.2024030100_2024030123.nc', 450875987, 56102223], 'PV/9.0.0.0': ['nsf-ncar-era5/e5.oper.an.pl/202403/e5.oper.an.pl.128_060_pv.ll025sc.2024030100_2024030123.nc', 506978210, 56971050], 'PV/10.0.0.0': ['nsf-ncar-era5/e5.oper.an.pl/202403/e5.oper.an.pl.128_060_pv.ll025sc.2024030100_2024030123.nc', 563949260, 58158342], 'PV/11.0.0.0': ['nsf-ncar-era5/e5.oper.an.pl/202403/e5.oper.an.pl.128_060_pv.ll025sc.2024030100_2024030123.nc', 622107602, 57587250], 'PV/12.0.0.0': ['nsf-ncar-era5/e5.oper.an.pl/202403/e5.oper.an.pl.128_060_pv.ll025sc.2024030100_2024030123.nc', 679694852, 57337884], 'PV/13.0.0.0': ['nsf-ncar-era5/e5.oper.an.pl/202403/e5.oper.an.pl.128_060_pv.ll025sc.2024030100_2024030123.nc', 737032736, 55709478], 'PV/14.0.0.0': ['nsf-ncar-era5/e5.oper.an.pl/202403/e5.oper.an.pl.128_060_pv.ll025sc.2024030100_2024030123.nc', 792742214, 57896893], 'PV/15.0.0.0': ['nsf-ncar-era5/e5.oper.an.pl/202403/e5.oper.an.pl.128_060_pv.ll025sc.2024030100_2024030123.nc', 850639107, 58091735], 'PV/16.0.0.0': ['nsf-ncar-era5/e5.oper.an.pl/202403/e5.oper.an.pl.128_060_pv.ll025sc.2024030100_2024030123.nc', 908730842, 58124628], 'PV/17.0.0.0': ['nsf-ncar-era5/e5.oper.an.pl/202403/e5.oper.an.pl.128_060_pv.ll025sc.2024030100_2024030123.nc', 966855470, 56149222], 'PV/18.0.0.0': ['nsf-ncar-era5/e5.oper.an.pl/202403/e5.oper.an.pl.128_060_pv.ll025sc.2024030100_2024030123.nc', 1023004692, 56350549], 'PV/19.0.0.0': ['nsf-ncar-era5/e5.oper.an.pl/202403/e5.oper.an.pl.128_060_pv.ll025sc.2024030100_2024030123.nc', 1079355241, 56565291], 'PV/20.0.0.0': ['nsf-ncar-era5/e5.oper.an.pl/202403/e5.oper.an.pl.128_060_pv.ll025sc.2024030100_2024030123.nc', 1135920532, 55327441], 'PV/21.0.0.0': ['nsf-ncar-era5/e5.oper.an.pl/202403/e5.oper.an.pl.128_060_pv.ll025sc.2024030100_2024030123.nc', 1191247973, 55272537], 'PV/22.0.0.0': ['nsf-ncar-era5/e5.oper.an.pl/202403/e5.oper.an.pl.128_060_pv.ll025sc.2024030100_2024030123.nc', 1246520510, 55527874], 'PV/23.0.0.0': ['nsf-ncar-era5/e5.oper.an.pl/202403/e5.oper.an.pl.128_060_pv.ll025sc.2024030100_2024030123.nc', 1302048384, 56278035], 'latitude/.zarray': '{\"chunks\":[721],\"compressor\":null,\"dtype\":\"<f8\",\"fill_value\":null,\"filters\":[{\"elementsize\":8,\"id\":\"shuffle\"},{\"id\":\"zlib\",\"level\":1}],\"order\":\"C\",\"shape\":[721],\"zarr_format\":2}', 'latitude/.zattrs': '{\"_ARRAY_DIMENSIONS\":[\"latitude\"],\"long_name\":\"latitude\",\"short_name\":\"lat\",\"units\":\"degrees_north\"}', 'latitude/0': 'base64:eAHt0jduQkEQBuAVQgghhMg5PHIOztl+ztkm1xyBI7wjcASOwA38jsARXklJQUFB4Rl5p9mCBiEK7/e0Wm3zNPPPMCbJBGQCMgGZgExAJiATkAnIBGQCMgGZwL9NQBsOmmpDcbK5MdUn49HW3oY+1gaqwnZ165rKNjkaW/9tukHr/64xVdM3Ooo60Ma6wXZ1O5WG2hwMtdF4ok+NOdvWu096gq6gI2gLWoKm4Jv74j65D+6de+NeuRfumXviHrkH7p674245lbsB1+AKXIILcA7OwCk4AcfgCByCA7AP9kAD1Ou1WrVaqZTLpVKxWCjk87lcNpvJpNOpVDKpKIl4LBoJh4IBv8/rcbucDrvNajGb2Gq5mM+MKZsas/liuWIms8VqszucLrfH6/MHgqFwJBqLJxQlmUyl0ulMJpvN5fL5QqFYLJXK5UqlWq3V6nUsAUvBkrA0LBFLxZKxdGwBW8GWsDVsEVvFlrF1ioFioZgoNoqRYqWYKXYaA42FxkRjozHSWGnMNHZhG5rCtrSEbWoL29YRtrErbGuP1rhPjcp7SwngNgH280eXtpvAL5FTN+w=', 'level/.zarray': '{\"chunks\":[37],\"compressor\":null,\"dtype\":\"<f8\",\"fill_value\":null,\"filters\":[{\"elementsize\":8,\"id\":\"shuffle\"},{\"id\":\"zlib\",\"level\":1}],\"order\":\"C\",\"shape\":[37],\"zarr_format\":2}', 'level/.zattrs': '{\"_ARRAY_DIMENSIONS\":[\"level\"],\"alternate_units\":\"millibar\",\"long_name\":\"pressure level\",\"short_name\":\"plev\",\"units\":\"hPa\"}', 'level/0': 'base64:eAFjYBjqoIHB4cADBgUIYXAg4EGBBcOJCREKLzZUOHxg4BCRUTGx8wyMjE9KzczJLyqtrKlvbGppbe/o7Ozq7unp7eu3dyACAADlfCRi', 'longitude/.zarray': '{\"chunks\":[1440],\"compressor\":null,\"dtype\":\"<f8\",\"fill_value\":null,\"filters\":[{\"elementsize\":8,\"id\":\"shuffle\"},{\"id\":\"zlib\",\"level\":1}],\"order\":\"C\",\"shape\":[1440],\"zarr_format\":2}', 'longitude/.zattrs': '{\"_ARRAY_DIMENSIONS\":[\"longitude\"],\"long_name\":\"longitude\",\"short_name\":\"lon\",\"units\":\"degrees_east\"}', 'longitude/0': 'base64:eAHt1D9Mk0EYx/GLIaQhxFQFrYjyAgUKFKgKWgH15Y9SFLUqalXUVwUsCFj+aBgY3sGBwaEDA4NDBwYGhg4ODA7vwMDg0IGBgaGDAwNDBwcGBh+Sx+UGn+GNkejvc7lcLpdbvsmdUoACKIACKIACKIACKIACKIACKIACKIACKIACKIACKIACKIACKIACKIACXMBWvx+m7Sg30zAtO+Vk1d9avUbIjFoJO5lKO5lsTv1ve4/XZwRCYTMSjVnxxKw9n1xMLadXnfXMZnY7t6tw/m/3yfMUeot8pYY/EAw1h9vN7khftD82YA3GxxIzs3P2x/lPyYXFz6ml5ZX0l9Wvztr6t8zG5lb2+/ZO7sfunsL9P9pPZegV7nc+lJfvKSg87D1y9FhR8fETvpMlp0pPnykzjPLyiorKSr+/qqq6uqYmEKitraurrw8GGxoaG5uaQuQsOUfOk2bSQi6QiyRMLpFW0kbayWVyhVwlJutgnayLdbNr7DrrYRHWy26wm6yP3WK32R0W1dzV3NPc1/RrHmgeah5pYprHmieap5oBzTPNc80LjSV4KXgleC0YFAwJhgVvBHHBiGBU8FYwJhgXTAjeCRIuTbo05dK0SzMuvXfpg0Dtf5Lk1z+JFQVQAAVQ4GAU+AkHFxSE', 'time/.zarray': '{\"chunks\":[1024],\"compressor\":null,\"dtype\":\"<i4\",\"fill_value\":null,\"filters\":[{\"elementsize\":4,\"id\":\"shuffle\"},{\"id\":\"zlib\",\"level\":1}],\"order\":\"C\",\"shape\":[24],\"zarr_format\":2}', 'time/.zattrs': '{\"_ARRAY_DIMENSIONS\":[\"time\"],\"calendar\":\"gregorian\",\"long_name\":\"time\",\"units\":\"hours since 1900-01-01 00:00:00\"}', 'time/0': 'base64:eAHt0AkVgCAQAFFpYGQj4I0ih4JY0wRbYN9Mg/l2nOZl3XZ3nP4KMeX7KfVtnyEEEFAv4IU6QgAB9QK9kPpxBhFAQBQYCAEE1Av8rYoWow==', 'utc_date/.zarray': '{\"chunks\":[1024],\"compressor\":null,\"dtype\":\"<i4\",\"fill_value\":null,\"filters\":[{\"elementsize\":4,\"id\":\"shuffle\"},{\"id\":\"zlib\",\"level\":1}],\"order\":\"C\",\"shape\":[24],\"zarr_format\":2}', 'utc_date/.zattrs': '{\"_ARRAY_DIMENSIONS\":[\"time\"],\"long_name\":\"UTC date yyyy-mm-dd hh:00:00 as yyyymmddhh\",\"units\":\"Gregorian_year month day hour\"}', 'utc_date/0': 'base64:eAHt0OEZQCAUQNFMZi0/DYEIJVJhSRO8Bd537wb3DONk58Wt2+7DEc8r3bnU5/0aQgAB9QKtkCEEEFAvkITUjzOIAAKmE+oJAQTUC/xu4CeD'}}]\n"
     ]
    },
    {
     "name": "stderr",
     "output_type": "stream",
     "text": [
      "\n"
     ]
    }
   ],
   "source": [
    "import json\n",
    "import fsspec\n",
    "import tqdm\n",
    "from kerchunk.combine import MultiZarrToZarr\n",
    "from kerchunk.hdf import SingleHdf5ToZarr\n",
    "\n",
    "# Establish S3 filesystem\n",
    "fs = fsspec.filesystem(\"s3\", anon=True)\n",
    "\n",
    "# Cloud object(s) of interest\n",
    "fn=\"e5.oper.an.pl.128_060_pv.ll025sc.2024030100_2024030123.nc\"\n",
    "pattern = f\"s3://nsf-ncar-era5/e5.oper.an.pl/202403/{fn}\"\n",
    "\n",
    "# Generation of a List of JSONs per compatible formatted (such as NetCDF & GRIB) data file in cloud\n",
    "jsons = []\n",
    "for file in tqdm.tqdm(fs.glob(pattern)):\n",
    "    with fs.open(file, \"rb\", anon=True) as f:\n",
    "        h5chunks = SingleHdf5ToZarr(f, file)\n",
    "        jsons.append(h5chunks.translate())\n",
    "\n",
    "print(\"CHECK HERE ON THE JSON & HOW IT LOOKS PRIOR TO IT BEING ADD WITH MULTIZARRTOZARR\", jsons)\n",
    "\n",
    "# Consolidate list of jsons into a single json\n",
    "mzz = MultiZarrToZarr(\n",
    "    jsons,\n",
    "    remote_protocol=\"s3\",\n",
    "    remote_options={\"anon\": True},\n",
    "    concat_dims=[\"time\"],\n",
    "    identical_dims=[\"latitude\", \"longitude\"],\n",
    ")\n",
    "\n",
    "with open(\"combined.json\", \"w\") as f:\n",
    "    json.dump(mzz.translate(), f)"
   ]
  },
  {
   "cell_type": "code",
   "execution_count": 4,
   "id": "5b78d806-cbf7-456d-aea6-75282d4510fd",
   "metadata": {},
   "outputs": [
    {
     "name": "stdout",
     "output_type": "stream",
     "text": [
      "2024-09-16 13:47:35 INFO Task init((),{}) starting\n",
      "2024-09-16 13:47:35 INFO Setting flatten_grid=True in config\n",
      "2024-09-16 13:47:35 INFO Setting ensemble_dimension=2 in config\n",
      "2024-09-16 13:47:35 INFO Setting flatten_grid=True in config\n",
      "2024-09-16 13:47:35 INFO Setting ensemble_dimension=2 in config\n",
      "2024-09-16 13:47:35 INFO {'start': datetime.datetime(2024, 3, 1, 20, 0), 'end': datetime.datetime(2024, 3, 1, 23, 0), 'frequency': '1h', 'group_by': 'monthly'}\n",
      "2024-09-16 13:47:35 INFO Groups(dates=1)\n",
      "2024-09-16 13:47:35 INFO FunctionAction: json=combined_tested.json param=PV level=[1000, 50] \n",
      "2024-09-16 13:47:35 INFO Minimal input for 'init' step (using only the first date) :\n",
      "2024-09-16 13:47:35 INFO xarray-kerchunk(['2024-03-01T20:00:00'])\n",
      "2024-09-16 13:47:35 INFO Config loaded ok:\n",
      "2024-09-16 13:47:35 INFO Found 4 datetimes.\n",
      "2024-09-16 13:47:35 INFO Dates: Found 4 datetimes, in 1 groups: \n",
      "2024-09-16 13:47:35 INFO Missing dates: 0\n",
      "2024-09-16 13:47:35 INFO Read reference from URL combined_tested.json\n",
      "2024-09-16 13:47:36 INFO Found 2 variables : PV_1000,PV_50.\n",
      "2024-09-16 13:47:36 INFO Found 1 ensembles : 0.\n",
      "2024-09-16 13:47:36 INFO gridpoints size: [1038240, 1038240]\n",
      "2024-09-16 13:47:36 INFO resolution=None\n",
      "2024-09-16 13:47:36 INFO total_shape = [4, 2, 1, 1038240]\n",
      "2024-09-16 13:47:36 INFO chunks=(1, 2, 1, 1038240)\n",
      "2024-09-16 13:47:36 INFO Creating Dataset 'test_s3_nc.zarr', with total_shape=[4, 2, 1, 1038240], chunks=(1, 2, 1, 1038240) and dtype='float32'\n",
      "2024-09-16 13:47:36 ERROR Error in retrieving metadata (cannot build data request info) for XArrayMetadata({'variable': 'PV', 'level': 1000, 'time': '2000', 'date': '20240301', 'step': 0, 'valid_datetime': '2024-03-01T20:00:00'})\n",
      "Traceback (most recent call last):\n",
      "  File \"/Users/pandora/miniconda3/envs/anemoi_test/lib/python3.10/site-packages/anemoi/datasets/create/input.py\", line 111, in _data_request\n",
      "    date = field.datetime()[\"valid_time\"]\n",
      "  File \"/Users/pandora/miniconda3/envs/anemoi_test/lib/python3.10/site-packages/earthkit/data/core/fieldlist.py\", line 512, in datetime\n",
      "    return self._metadata.datetime()\n",
      "  File \"/Users/pandora/miniconda3/envs/anemoi_test/lib/python3.10/site-packages/earthkit/data/core/metadata.py\", line 312, in datetime\n",
      "    \"base_time\": self._base_datetime(),\n",
      "  File \"/Users/pandora/miniconda3/envs/anemoi_test/lib/python3.10/site-packages/anemoi/datasets/create/functions/sources/xarray/metadata.py\", line 84, in _base_datetime\n",
      "    return self._field.forecast_reference_time\n",
      "  File \"/Users/pandora/miniconda3/envs/anemoi_test/lib/python3.10/site-packages/anemoi/datasets/create/functions/sources/xarray/field.py\", line 106, in forecast_reference_time\n",
      "    return self.owner.forecast_reference_time\n",
      "AttributeError: 'Variable' object has no attribute 'forecast_reference_time'\n",
      "2024-09-16 13:47:36 ERROR Error in retrieving metadata (cannot build data request info) for XArrayMetadata({'variable': 'PV', 'level': 50, 'time': '2000', 'date': '20240301', 'step': 0, 'valid_datetime': '2024-03-01T20:00:00'})\n",
      "Traceback (most recent call last):\n",
      "  File \"/Users/pandora/miniconda3/envs/anemoi_test/lib/python3.10/site-packages/anemoi/datasets/create/input.py\", line 111, in _data_request\n",
      "    date = field.datetime()[\"valid_time\"]\n",
      "  File \"/Users/pandora/miniconda3/envs/anemoi_test/lib/python3.10/site-packages/earthkit/data/core/fieldlist.py\", line 512, in datetime\n",
      "    return self._metadata.datetime()\n",
      "  File \"/Users/pandora/miniconda3/envs/anemoi_test/lib/python3.10/site-packages/earthkit/data/core/metadata.py\", line 312, in datetime\n",
      "    \"base_time\": self._base_datetime(),\n",
      "  File \"/Users/pandora/miniconda3/envs/anemoi_test/lib/python3.10/site-packages/anemoi/datasets/create/functions/sources/xarray/metadata.py\", line 84, in _base_datetime\n",
      "    return self._field.forecast_reference_time\n",
      "  File \"/Users/pandora/miniconda3/envs/anemoi_test/lib/python3.10/site-packages/anemoi/datasets/create/functions/sources/xarray/field.py\", line 106, in forecast_reference_time\n",
      "    return self.owner.forecast_reference_time\n",
      "AttributeError: 'Variable' object has no attribute 'forecast_reference_time'\n",
      "2024-09-16 13:47:36 WARNING Dataset name error: the dataset name 'test_s3_nc' does not follow naming convention. Does not match ^(\\w+)-([\\w-]+)-(\\w+)-(\\w+)-(\\d\\d\\d\\d)-(\\d\\d\\d\\d)-(\\d+h)-v(\\d+)-?([a-zA-Z0-9-]+)?$\n",
      "2024-09-16 13:47:36 INFO Number of years 0 < 10, leaving out 20%. end=np.datetime64('2024-03-01T22:00:00')\n",
      "2024-09-16 13:47:36 INFO Will compute statistics from 2024-03-01T20:00:00 to 2024-03-01T22:00:00\n",
      "❌❌❌ FIXME: Config serialisation to be checked\n",
      "{\"attribution\": \"unknown\", \"build\": {\"group_by\": \"monthly\", \"use_grib_paramid\": false, \"variable_naming\": \"default\"}, \"config_path\": \"/Users/pandora/Desktop/code/PYTHON/CURRENT_WORK_PERFORMED_ON_MAC_M2/anemoi/test_s3_nc.yaml\", \"dataset_status\": \"experimental\", \"dates\": {\"end\": \"2024-03-01 23:00:00\", \"frequency\": \"1h\", \"group_by\": \"monthly\", \"start\": \"2024-03-01 20:00:00\"}, \"description\": \"No description provided.\", \"input\": {\"xarray-kerchunk\": {\"json\": \"combined_tested.json\", \"level\": [1000, 50], \"param\": \"PV\"}}, \"licence\": \"unknown\", \"output\": {\"chunking\": {\"dates\": 1, \"ensembles\": 1}, \"dtype\": \"float32\", \"ensemble_dimension\": 2, \"flatten_grid\": true, \"order_by\": {\"number\": \"ascending\", \"param_level\": \"ascending\", \"valid_datetime\": \"ascending\"}, \"remapping\": {\"param_level\": \"{param}_{levelist}\"}, \"statistics\": \"param_level\"}, \"reading_chunks\": null, \"statistics\": {\"allow_nans\": []}}\n",
      "{\"attribution\": \"unknown\", \"build\": {\"group_by\": \"monthly\", \"use_grib_paramid\": false, \"variable_naming\": \"default\"}, \"config_path\": \"/Users/pandora/Desktop/code/PY HON/CURREN _WORK_PERFORMED_ON_MAC_M2/anemoi/test_s3_nc.yaml\", \"dataset_status\": \"experimental\", \"dates\": {\"end\": \"2024-03-01 23:00:00\", \"frequency\": \"1h\", \"group_by\": \"monthly\", \"start\": \"2024-03-01 20:00:00\"}, \"description\": \"No description provided.\", \"input\": {\"xarray-kerchunk\": {\"json\": \"combined_tested.json\", \"level\": [1000, 50], \"param\": \"PV\"}}, \"licence\": \"unknown\", \"output\": {\"chunking\": {\"dates\": 1, \"ensembles\": 1}, \"dtype\": \"float32\", \"ensemble_dimension\": 2, \"flatten_grid\": true, \"order_by\": {\"number\": \"ascending\", \"param_level\": \"ascending\", \"valid_datetime\": \"ascending\"}, \"remapping\": {\"param_level\": \"{param}_{levelist}\"}, \"statistics\": \"param_level\"}, \"reading_chunks\": null, \"statistics\": {\"allow_nans\": []}}\n",
      "2024-09-16 13:47:36 INFO Task load((),{}) starting\n",
      "2024-09-16 13:47:36 INFO {'end': '2024-03-01T23:00:00', 'frequency': '1h', 'group_by': 'monthly', 'start': '2024-03-01T20:00:00'}\n",
      "2024-09-16 13:47:36 INFO Groups(dates=1)\n",
      "2024-09-16 13:47:36 INFO FunctionAction: json=combined_tested.json level=[1000, 50] param=PV \n",
      "Loading 7/8: 100%|████████████████████████████████| 8/8 [01:01<00:00,  7.65s/it]\n",
      "2024-09-16 13:48:37 INFO Name               : /data\n",
      "Type               : zarr.core.Array\n",
      "Data type          : float32\n",
      "Shape              : (4, 2, 1, 1038240)\n",
      "Chunk shape        : (1, 2, 1, 1038240)\n",
      "Order              : C\n",
      "Read-only          : True\n",
      "Compressor         : Blosc(cname='lz4', clevel=5, shuffle=SHUFFLE, blocksize=0)\n",
      "Store type         : zarr.storage.DirectoryStore\n",
      "No. bytes          : 33223680 (31.7M)\n",
      "No. bytes stored   : 15808305 (15.1M)\n",
      "Storage ratio      : 2.1\n",
      "Chunks initialized : 4/4\n",
      "\n",
      "2024-09-16 13:48:37 INFO Task finalise((),{}) starting\n",
      "2024-09-16 13:48:37 INFO Variables minimum maximum mean stdev has_nans\n",
      "PV_1000 -0.00 0.00 -0.00 0.00 0.00\n",
      "PV_50 -0.00 0.00 -0.00 0.00 0.00\n",
      "2024-09-16 13:48:37 INFO Wrote statistics in test_s3_nc.zarr\n",
      "Computing size of test_s3_nc.zarr: 16it [00:00, 30352.27it/s]\n",
      "2024-09-16 13:48:37 INFO Total size: 15.2 MiB\n",
      "2024-09-16 13:48:37 INFO Total number of files: 78\n",
      "2024-09-16 13:48:37 INFO Task patch((),{}) starting\n",
      "2024-09-16 13:48:37 INFO ✅ Remove _create_yaml_config\n",
      "2024-09-16 13:48:37 INFO Dataset changed by patch\n",
      "2024-09-16 13:48:37 INFO Task init_additions((),{}) starting\n",
      "2024-09-16 13:48:37 WARNING No delta found in kwargs, no addtions will be computed.\n",
      "2024-09-16 13:48:37 INFO Task run_additions((),{}) starting\n",
      "2024-09-16 13:48:37 WARNING No delta found in kwargs, no addtions will be computed.\n",
      "2024-09-16 13:48:37 INFO Task finalise_additions((),{}) starting\n",
      "2024-09-16 13:48:37 WARNING No delta found in kwargs, no addtions will be computed.\n",
      "Computing size of test_s3_nc.zarr: 16it [00:00, 27628.19it/s]\n",
      "2024-09-16 13:48:37 INFO Total size: 15.2 MiB\n",
      "2024-09-16 13:48:37 INFO Total number of files: 78\n",
      "2024-09-16 13:48:37 INFO Task cleanup((),{}) starting\n",
      "2024-09-16 13:48:37 INFO Task verify((),{}) starting\n",
      "2024-09-16 13:48:37 INFO Verifying dataset at test_s3_nc.zarr\n",
      "2024-09-16 13:48:37 INFO test_s3_nc.zarr\n",
      "2024-09-16 13:48:37 INFO Create completed in 1 minute 1 second\n"
     ]
    }
   ],
   "source": [
    "! anemoi-datasets create test_s3_nc.yaml test_s3_nc.zarr"
   ]
  },
  {
   "cell_type": "markdown",
   "id": "d2e3b8a5-6fcd-426f-a9ad-d2a61374962a",
   "metadata": {},
   "source": [
    "### 2) Testing Conversion of NetCDF stored in S3 to Anemoi Format\n",
    "\n",
    "__Finding:__\n",
    "\n",
    "Consolidating JSONs of a zarr store appears to be a possible requirement for a zarr store to be converted into an Anemoi formatted data when using kerchunk configuration format file.\n",
    "\n",
    "It does not appear to be a feature offered in the current anemoi-dataset framework (main branch & develop branch). The capability needs to be added into the framework that would allow consolidation of JSONs of a zarr store into a single json file. (see error below)\n",
    "\n",
    "__Data Tested:__\n",
    "  \n",
    "pattern = 's3://noaa-ufs-gdas-pds/test_ar.zarr/*'"
   ]
  },
  {
   "cell_type": "code",
   "execution_count": 5,
   "id": "b7da21d8-8f7e-4978-873e-f58a03e1a3bc",
   "metadata": {},
   "outputs": [
    {
     "name": "stderr",
     "output_type": "stream",
     "text": [
      "  0%|                                                    | 0/39 [00:00<?, ?it/s]\n"
     ]
    },
    {
     "ename": "OSError",
     "evalue": "Unable to open file (file signature not found)",
     "output_type": "error",
     "traceback": [
      "\u001b[0;31m---------------------------------------------------------------------------\u001b[0m",
      "\u001b[0;31mOSError\u001b[0m                                   Traceback (most recent call last)",
      "Cell \u001b[0;32mIn[5], line 17\u001b[0m\n\u001b[1;32m     15\u001b[0m \u001b[38;5;28;01mfor\u001b[39;00m file \u001b[38;5;129;01min\u001b[39;00m tqdm\u001b[38;5;241m.\u001b[39mtqdm(fs\u001b[38;5;241m.\u001b[39mglob(pattern)):\n\u001b[1;32m     16\u001b[0m     \u001b[38;5;28;01mwith\u001b[39;00m fs\u001b[38;5;241m.\u001b[39mopen(file, \u001b[38;5;124m\"\u001b[39m\u001b[38;5;124mrb\u001b[39m\u001b[38;5;124m\"\u001b[39m, anon\u001b[38;5;241m=\u001b[39m\u001b[38;5;28;01mTrue\u001b[39;00m) \u001b[38;5;28;01mas\u001b[39;00m f:\n\u001b[0;32m---> 17\u001b[0m         h5chunks \u001b[38;5;241m=\u001b[39m \u001b[43mSingleHdf5ToZarr\u001b[49m\u001b[43m(\u001b[49m\u001b[43mf\u001b[49m\u001b[43m,\u001b[49m\u001b[43m \u001b[49m\u001b[43mfile\u001b[49m\u001b[43m)\u001b[49m\n\u001b[1;32m     18\u001b[0m         jsons\u001b[38;5;241m.\u001b[39mappend(h5chunks\u001b[38;5;241m.\u001b[39mtranslate())\n\u001b[1;32m     20\u001b[0m \u001b[38;5;66;03m# Consolidate list of jsons into a single json\u001b[39;00m\n",
      "File \u001b[0;32m~/miniconda3/envs/anemoi_test/lib/python3.10/site-packages/kerchunk/hdf.py:96\u001b[0m, in \u001b[0;36mSingleHdf5ToZarr.__init__\u001b[0;34m(self, h5f, url, spec, inline_threshold, storage_options, error, vlen_encode, out)\u001b[0m\n\u001b[1;32m     94\u001b[0m \u001b[38;5;28;01melif\u001b[39;00m \u001b[38;5;28misinstance\u001b[39m(h5f, io\u001b[38;5;241m.\u001b[39mIOBase):\n\u001b[1;32m     95\u001b[0m     \u001b[38;5;28mself\u001b[39m\u001b[38;5;241m.\u001b[39minput_file \u001b[38;5;241m=\u001b[39m h5f\n\u001b[0;32m---> 96\u001b[0m     \u001b[38;5;28mself\u001b[39m\u001b[38;5;241m.\u001b[39m_h5f \u001b[38;5;241m=\u001b[39m \u001b[43mh5py\u001b[49m\u001b[38;5;241;43m.\u001b[39;49m\u001b[43mFile\u001b[49m\u001b[43m(\u001b[49m\u001b[38;5;28;43mself\u001b[39;49m\u001b[38;5;241;43m.\u001b[39;49m\u001b[43minput_file\u001b[49m\u001b[43m,\u001b[49m\u001b[43m \u001b[49m\u001b[43mmode\u001b[49m\u001b[38;5;241;43m=\u001b[39;49m\u001b[38;5;124;43m\"\u001b[39;49m\u001b[38;5;124;43mr\u001b[39;49m\u001b[38;5;124;43m\"\u001b[39;49m\u001b[43m)\u001b[49m\n\u001b[1;32m     97\u001b[0m \u001b[38;5;28;01melif\u001b[39;00m \u001b[38;5;28misinstance\u001b[39m(h5f, (h5py\u001b[38;5;241m.\u001b[39mFile, h5py\u001b[38;5;241m.\u001b[39mGroup)):\n\u001b[1;32m     98\u001b[0m     \u001b[38;5;66;03m# assume h5py object (File or group/dataset)\u001b[39;00m\n\u001b[1;32m     99\u001b[0m     \u001b[38;5;28mself\u001b[39m\u001b[38;5;241m.\u001b[39m_h5f \u001b[38;5;241m=\u001b[39m h5f\n",
      "File \u001b[0;32m~/miniconda3/envs/anemoi_test/lib/python3.10/site-packages/h5py/_hl/files.py:562\u001b[0m, in \u001b[0;36mFile.__init__\u001b[0;34m(self, name, mode, driver, libver, userblock_size, swmr, rdcc_nslots, rdcc_nbytes, rdcc_w0, track_order, fs_strategy, fs_persist, fs_threshold, fs_page_size, page_buf_size, min_meta_keep, min_raw_keep, locking, alignment_threshold, alignment_interval, meta_block_size, **kwds)\u001b[0m\n\u001b[1;32m    553\u001b[0m     fapl \u001b[38;5;241m=\u001b[39m make_fapl(driver, libver, rdcc_nslots, rdcc_nbytes, rdcc_w0,\n\u001b[1;32m    554\u001b[0m                      locking, page_buf_size, min_meta_keep, min_raw_keep,\n\u001b[1;32m    555\u001b[0m                      alignment_threshold\u001b[38;5;241m=\u001b[39malignment_threshold,\n\u001b[1;32m    556\u001b[0m                      alignment_interval\u001b[38;5;241m=\u001b[39malignment_interval,\n\u001b[1;32m    557\u001b[0m                      meta_block_size\u001b[38;5;241m=\u001b[39mmeta_block_size,\n\u001b[1;32m    558\u001b[0m                      \u001b[38;5;241m*\u001b[39m\u001b[38;5;241m*\u001b[39mkwds)\n\u001b[1;32m    559\u001b[0m     fcpl \u001b[38;5;241m=\u001b[39m make_fcpl(track_order\u001b[38;5;241m=\u001b[39mtrack_order, fs_strategy\u001b[38;5;241m=\u001b[39mfs_strategy,\n\u001b[1;32m    560\u001b[0m                      fs_persist\u001b[38;5;241m=\u001b[39mfs_persist, fs_threshold\u001b[38;5;241m=\u001b[39mfs_threshold,\n\u001b[1;32m    561\u001b[0m                      fs_page_size\u001b[38;5;241m=\u001b[39mfs_page_size)\n\u001b[0;32m--> 562\u001b[0m     fid \u001b[38;5;241m=\u001b[39m \u001b[43mmake_fid\u001b[49m\u001b[43m(\u001b[49m\u001b[43mname\u001b[49m\u001b[43m,\u001b[49m\u001b[43m \u001b[49m\u001b[43mmode\u001b[49m\u001b[43m,\u001b[49m\u001b[43m \u001b[49m\u001b[43muserblock_size\u001b[49m\u001b[43m,\u001b[49m\u001b[43m \u001b[49m\u001b[43mfapl\u001b[49m\u001b[43m,\u001b[49m\u001b[43m \u001b[49m\u001b[43mfcpl\u001b[49m\u001b[43m,\u001b[49m\u001b[43m \u001b[49m\u001b[43mswmr\u001b[49m\u001b[38;5;241;43m=\u001b[39;49m\u001b[43mswmr\u001b[49m\u001b[43m)\u001b[49m\n\u001b[1;32m    564\u001b[0m \u001b[38;5;28;01mif\u001b[39;00m \u001b[38;5;28misinstance\u001b[39m(libver, \u001b[38;5;28mtuple\u001b[39m):\n\u001b[1;32m    565\u001b[0m     \u001b[38;5;28mself\u001b[39m\u001b[38;5;241m.\u001b[39m_libver \u001b[38;5;241m=\u001b[39m libver\n",
      "File \u001b[0;32m~/miniconda3/envs/anemoi_test/lib/python3.10/site-packages/h5py/_hl/files.py:235\u001b[0m, in \u001b[0;36mmake_fid\u001b[0;34m(name, mode, userblock_size, fapl, fcpl, swmr)\u001b[0m\n\u001b[1;32m    233\u001b[0m     \u001b[38;5;28;01mif\u001b[39;00m swmr \u001b[38;5;129;01mand\u001b[39;00m swmr_support:\n\u001b[1;32m    234\u001b[0m         flags \u001b[38;5;241m|\u001b[39m\u001b[38;5;241m=\u001b[39m h5f\u001b[38;5;241m.\u001b[39mACC_SWMR_READ\n\u001b[0;32m--> 235\u001b[0m     fid \u001b[38;5;241m=\u001b[39m \u001b[43mh5f\u001b[49m\u001b[38;5;241;43m.\u001b[39;49m\u001b[43mopen\u001b[49m\u001b[43m(\u001b[49m\u001b[43mname\u001b[49m\u001b[43m,\u001b[49m\u001b[43m \u001b[49m\u001b[43mflags\u001b[49m\u001b[43m,\u001b[49m\u001b[43m \u001b[49m\u001b[43mfapl\u001b[49m\u001b[38;5;241;43m=\u001b[39;49m\u001b[43mfapl\u001b[49m\u001b[43m)\u001b[49m\n\u001b[1;32m    236\u001b[0m \u001b[38;5;28;01melif\u001b[39;00m mode \u001b[38;5;241m==\u001b[39m \u001b[38;5;124m'\u001b[39m\u001b[38;5;124mr+\u001b[39m\u001b[38;5;124m'\u001b[39m:\n\u001b[1;32m    237\u001b[0m     fid \u001b[38;5;241m=\u001b[39m h5f\u001b[38;5;241m.\u001b[39mopen(name, h5f\u001b[38;5;241m.\u001b[39mACC_RDWR, fapl\u001b[38;5;241m=\u001b[39mfapl)\n",
      "File \u001b[0;32mh5py/_objects.pyx:54\u001b[0m, in \u001b[0;36mh5py._objects.with_phil.wrapper\u001b[0;34m()\u001b[0m\n",
      "File \u001b[0;32mh5py/_objects.pyx:55\u001b[0m, in \u001b[0;36mh5py._objects.with_phil.wrapper\u001b[0;34m()\u001b[0m\n",
      "File \u001b[0;32mh5py/h5f.pyx:102\u001b[0m, in \u001b[0;36mh5py.h5f.open\u001b[0;34m()\u001b[0m\n",
      "\u001b[0;31mOSError\u001b[0m: Unable to open file (file signature not found)"
     ]
    }
   ],
   "source": [
    "import json\n",
    "import fsspec\n",
    "import tqdm\n",
    "from kerchunk.combine import MultiZarrToZarr\n",
    "from kerchunk.hdf import SingleHdf5ToZarr\n",
    "\n",
    "# Establish S3 filesystem\n",
    "fs = fsspec.filesystem(\"s3\", anon=True)\n",
    "\n",
    "# Cloud object of interest\n",
    "pattern = 's3://noaa-ufs-gdas-pds/test_ar.zarr/*'\n",
    "\n",
    "# ======================== TODO: =========================\n",
    "# To create a script that will consolidate the jsons into one & then, feed it into a \n",
    "# configuration kerchuk file formatted\n",
    "# =================================================================\n",
    "# Generation of a List of JSONs per compatible formatted (such as NetCDF & GRIB) data file in cloud\n",
    "jsons = []\n",
    "for file in tqdm.tqdm(fs.glob(pattern)):\n",
    "    with fs.open(file, \"rb\", anon=True) as f:\n",
    "        h5chunks = SingleHdf5ToZarr(f, file) \n",
    "        jsons.append(h5chunks.translate())\n",
    "\n",
    "# Consolidate list of jsons into a single json\n",
    "print(\"CHECK HERE ON THE JSON & HOW IT LOOKS PRIOR TO IT BEING ADD WITH MULTIZARRTOZARR\", jsons)\n",
    "mzz = MultiZarrToZarr(\n",
    "    jsons,\n",
    "    remote_protocol=\"s3\",\n",
    "    remote_options={\"anon\": True},\n",
    "    concat_dims=[\"time\"],\n",
    "    identical_dims=[\"latitude\", \"longitude\"],\n",
    ")\n",
    "# =================================================================\n",
    "\n",
    "with open(\"combined4zarr.json\", \"w\") as f:\n",
    "    json.dump(mzz.translate(), f)"
   ]
  },
  {
   "cell_type": "code",
   "execution_count": null,
   "id": "9ba53fcd-04df-41d3-a550-c3d4006cf581",
   "metadata": {},
   "outputs": [],
   "source": []
  }
 ],
 "metadata": {
  "kernelspec": {
   "display_name": "anemoi_test",
   "language": "python",
   "name": "anemoi_test"
  },
  "language_info": {
   "codemirror_mode": {
    "name": "ipython",
    "version": 3
   },
   "file_extension": ".py",
   "mimetype": "text/x-python",
   "name": "python",
   "nbconvert_exporter": "python",
   "pygments_lexer": "ipython3",
   "version": "3.10.13"
  }
 },
 "nbformat": 4,
 "nbformat_minor": 5
}
